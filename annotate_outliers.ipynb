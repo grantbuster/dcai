{
 "cells": [
  {
   "cell_type": "code",
   "execution_count": 1,
   "id": "critical-homework",
   "metadata": {},
   "outputs": [],
   "source": [
    "from glob import glob\n",
    "import os\n",
    "import pandas as pd\n",
    "import shutil\n",
    "from pigeon import annotate\n",
    "import PIL\n",
    "import matplotlib.pyplot as plt\n",
    "from IPython.display import display, Image"
   ]
  },
  {
   "cell_type": "code",
   "execution_count": 2,
   "id": "respective-article",
   "metadata": {},
   "outputs": [],
   "source": [
    "data_dir = './data_baseline_clean/data_baseline_clean/train'"
   ]
  },
  {
   "cell_type": "code",
   "execution_count": 3,
   "id": "closing-single",
   "metadata": {},
   "outputs": [
    {
     "name": "stdout",
     "output_type": "stream",
     "text": [
      "1755\n"
     ]
    }
   ],
   "source": [
    "pattern = data_dir + '/*/*.png'\n",
    "fps = sorted(glob(pattern))\n",
    "print(len(fps))"
   ]
  },
  {
   "cell_type": "code",
   "execution_count": 4,
   "id": "searching-dispute",
   "metadata": {},
   "outputs": [
    {
     "name": "stdout",
     "output_type": "stream",
     "text": [
      "1515\n"
     ]
    }
   ],
   "source": [
    "ignore = ['/i/']\n",
    "fps = [fp for fp in fps if not any([x in fp for x in ignore])]\n",
    "print(len(fps))"
   ]
  },
  {
   "cell_type": "code",
   "execution_count": 5,
   "id": "offshore-inside",
   "metadata": {},
   "outputs": [],
   "source": [
    "def display_fun(fp):\n",
    "    num_dir = os.path.basename(os.path.dirname(fp)).upper()\n",
    "    image = PIL.Image.open(fp)\n",
    "    image = image.resize((32, 32))\n",
    "    plt.imshow(image, cmap='binary_r')\n",
    "    plt.title('{}\\n{}'.format(num_dir, os.path.basename(fp)))\n",
    "    plt.show()\n",
    "    plt.close()"
   ]
  },
  {
   "cell_type": "code",
   "execution_count": 6,
   "id": "tutorial-funds",
   "metadata": {},
   "outputs": [
    {
     "data": {
      "application/vnd.jupyter.widget-view+json": {
       "model_id": "f83825b3f00c423e81a8034ac0b45199",
       "version_major": 2,
       "version_minor": 0
      },
      "text/plain": [
       "HTML(value='0 examples annotated, 1516 examples left')"
      ]
     },
     "metadata": {},
     "output_type": "display_data"
    },
    {
     "data": {
      "application/vnd.jupyter.widget-view+json": {
       "model_id": "68e8c5b452b74e6785583a194541ec89",
       "version_major": 2,
       "version_minor": 0
      },
      "text/plain": [
       "HBox(children=(Button(description='normal', style=ButtonStyle()), Button(description='outlier', style=ButtonSt…"
      ]
     },
     "metadata": {},
     "output_type": "display_data"
    },
    {
     "data": {
      "application/vnd.jupyter.widget-view+json": {
       "model_id": "62e603c0238549948faa60f07998b058",
       "version_major": 2,
       "version_minor": 0
      },
      "text/plain": [
       "Output()"
      ]
     },
     "metadata": {},
     "output_type": "display_data"
    }
   ],
   "source": [
    "annotations = annotate(\n",
    "  fps,\n",
    "  options=['normal', 'outlier', 'bad_label'],\n",
    "  display_fn=display_fun\n",
    ")"
   ]
  },
  {
   "cell_type": "code",
   "execution_count": 10,
   "id": "southwest-programmer",
   "metadata": {},
   "outputs": [
    {
     "data": {
      "text/plain": [
       "(157, (1515, 4))"
      ]
     },
     "execution_count": 10,
     "metadata": {},
     "output_type": "execute_result"
    }
   ],
   "source": [
    "df = pd.DataFrame(annotations, columns=['fp', 'label'])\n",
    "df['outlier'] = (df['label'] == 'outlier')\n",
    "df['class'] = None\n",
    "for i, fp in enumerate(df['fp']):\n",
    "    df.loc[i, 'class'] = os.path.basename(os.path.dirname(fp))\n",
    "\n",
    "df['outlier'].sum(), df.shape"
   ]
  },
  {
   "cell_type": "code",
   "execution_count": 17,
   "id": "valid-passage",
   "metadata": {},
   "outputs": [],
   "source": [
    "bad = df.loc[(df['label'] == 'bad_label'), 'fp']\n",
    "for fp in bad:\n",
    "    dest = fp.replace('/train', '/ignore')\n",
    "    shutil.move(fp, dest)"
   ]
  },
  {
   "cell_type": "code",
   "execution_count": 21,
   "id": "continued-lexington",
   "metadata": {
    "tags": []
   },
   "outputs": [],
   "source": [
    "df['fp'] = [fp.replace(data_dir, '') for fp in df['fp']]"
   ]
  },
  {
   "cell_type": "code",
   "execution_count": 22,
   "id": "solid-elevation",
   "metadata": {},
   "outputs": [
    {
     "data": {
      "text/html": [
       "<div>\n",
       "<style scoped>\n",
       "    .dataframe tbody tr th:only-of-type {\n",
       "        vertical-align: middle;\n",
       "    }\n",
       "\n",
       "    .dataframe tbody tr th {\n",
       "        vertical-align: top;\n",
       "    }\n",
       "\n",
       "    .dataframe thead th {\n",
       "        text-align: right;\n",
       "    }\n",
       "</style>\n",
       "<table border=\"1\" class=\"dataframe\">\n",
       "  <thead>\n",
       "    <tr style=\"text-align: right;\">\n",
       "      <th></th>\n",
       "      <th>fp</th>\n",
       "      <th>label</th>\n",
       "      <th>outlier</th>\n",
       "      <th>class</th>\n",
       "    </tr>\n",
       "  </thead>\n",
       "  <tbody>\n",
       "    <tr>\n",
       "      <th>0</th>\n",
       "      <td>/ii/ab2ba65a-ce5d-11eb-b317-38f9d35ea60f.png</td>\n",
       "      <td>bad_label</td>\n",
       "      <td>False</td>\n",
       "      <td>ii</td>\n",
       "    </tr>\n",
       "    <tr>\n",
       "      <th>1</th>\n",
       "      <td>/ii/ab2c4722-ce5d-11eb-b317-38f9d35ea60f.png</td>\n",
       "      <td>normal</td>\n",
       "      <td>False</td>\n",
       "      <td>ii</td>\n",
       "    </tr>\n",
       "    <tr>\n",
       "      <th>2</th>\n",
       "      <td>/ii/ab2cceae-ce5d-11eb-b317-38f9d35ea60f.png</td>\n",
       "      <td>normal</td>\n",
       "      <td>False</td>\n",
       "      <td>ii</td>\n",
       "    </tr>\n",
       "    <tr>\n",
       "      <th>3</th>\n",
       "      <td>/ii/ab2ddcea-ce5d-11eb-b317-38f9d35ea60f.png</td>\n",
       "      <td>outlier</td>\n",
       "      <td>True</td>\n",
       "      <td>ii</td>\n",
       "    </tr>\n",
       "    <tr>\n",
       "      <th>4</th>\n",
       "      <td>/ii/ab2e9892-ce5d-11eb-b317-38f9d35ea60f.png</td>\n",
       "      <td>normal</td>\n",
       "      <td>False</td>\n",
       "      <td>ii</td>\n",
       "    </tr>\n",
       "    <tr>\n",
       "      <th>...</th>\n",
       "      <td>...</td>\n",
       "      <td>...</td>\n",
       "      <td>...</td>\n",
       "      <td>...</td>\n",
       "    </tr>\n",
       "    <tr>\n",
       "      <th>1510</th>\n",
       "      <td>/x/b025799c-ce5d-11eb-b317-38f9d35ea60f.png</td>\n",
       "      <td>normal</td>\n",
       "      <td>False</td>\n",
       "      <td>x</td>\n",
       "    </tr>\n",
       "    <tr>\n",
       "      <th>1511</th>\n",
       "      <td>/x/b02616ea-ce5d-11eb-b317-38f9d35ea60f.png</td>\n",
       "      <td>normal</td>\n",
       "      <td>False</td>\n",
       "      <td>x</td>\n",
       "    </tr>\n",
       "    <tr>\n",
       "      <th>1512</th>\n",
       "      <td>/x/b0269fa2-ce5d-11eb-b317-38f9d35ea60f.png</td>\n",
       "      <td>normal</td>\n",
       "      <td>False</td>\n",
       "      <td>x</td>\n",
       "    </tr>\n",
       "    <tr>\n",
       "      <th>1513</th>\n",
       "      <td>/x/b0276dc4-ce5d-11eb-b317-38f9d35ea60f.png</td>\n",
       "      <td>normal</td>\n",
       "      <td>False</td>\n",
       "      <td>x</td>\n",
       "    </tr>\n",
       "    <tr>\n",
       "      <th>1514</th>\n",
       "      <td>/x/b0283a38-ce5d-11eb-b317-38f9d35ea60f.png</td>\n",
       "      <td>normal</td>\n",
       "      <td>False</td>\n",
       "      <td>x</td>\n",
       "    </tr>\n",
       "  </tbody>\n",
       "</table>\n",
       "<p>1515 rows × 4 columns</p>\n",
       "</div>"
      ],
      "text/plain": [
       "                                                fp      label  outlier class\n",
       "0     /ii/ab2ba65a-ce5d-11eb-b317-38f9d35ea60f.png  bad_label    False    ii\n",
       "1     /ii/ab2c4722-ce5d-11eb-b317-38f9d35ea60f.png     normal    False    ii\n",
       "2     /ii/ab2cceae-ce5d-11eb-b317-38f9d35ea60f.png     normal    False    ii\n",
       "3     /ii/ab2ddcea-ce5d-11eb-b317-38f9d35ea60f.png    outlier     True    ii\n",
       "4     /ii/ab2e9892-ce5d-11eb-b317-38f9d35ea60f.png     normal    False    ii\n",
       "...                                            ...        ...      ...   ...\n",
       "1510   /x/b025799c-ce5d-11eb-b317-38f9d35ea60f.png     normal    False     x\n",
       "1511   /x/b02616ea-ce5d-11eb-b317-38f9d35ea60f.png     normal    False     x\n",
       "1512   /x/b0269fa2-ce5d-11eb-b317-38f9d35ea60f.png     normal    False     x\n",
       "1513   /x/b0276dc4-ce5d-11eb-b317-38f9d35ea60f.png     normal    False     x\n",
       "1514   /x/b0283a38-ce5d-11eb-b317-38f9d35ea60f.png     normal    False     x\n",
       "\n",
       "[1515 rows x 4 columns]"
      ]
     },
     "execution_count": 22,
     "metadata": {},
     "output_type": "execute_result"
    }
   ],
   "source": [
    "df"
   ]
  },
  {
   "cell_type": "code",
   "execution_count": 23,
   "id": "desperate-parcel",
   "metadata": {},
   "outputs": [],
   "source": [
    "df.to_csv('./outliers.csv')"
   ]
  }
 ],
 "metadata": {
  "kernelspec": {
   "display_name": "Python 3",
   "language": "python",
   "name": "python3"
  },
  "language_info": {
   "codemirror_mode": {
    "name": "ipython",
    "version": 3
   },
   "file_extension": ".py",
   "mimetype": "text/x-python",
   "name": "python",
   "nbconvert_exporter": "python",
   "pygments_lexer": "ipython3",
   "version": "3.8.5"
  }
 },
 "nbformat": 4,
 "nbformat_minor": 5
}
