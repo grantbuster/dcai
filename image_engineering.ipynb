{
 "cells": [
  {
   "cell_type": "markdown",
   "id": "still-platinum",
   "metadata": {},
   "source": [
    "# Initialize a fresh test data dir\n",
    "\n",
    "Includes horiz and vertical symmetry manipulations"
   ]
  },
  {
   "cell_type": "code",
   "execution_count": 1,
   "id": "widespread-saver",
   "metadata": {},
   "outputs": [],
   "source": [
    "import os\n",
    "import shutil\n",
    "import tensorflow as tf\n",
    "from tensorflow import keras\n",
    "import numpy as np\n",
    "from numpy import asarray\n",
    "import h5py\n",
    "from glob import glob\n",
    "import json\n",
    "import sys\n",
    "import random\n",
    "from PIL import Image\n",
    "import matplotlib.pyplot as plt"
   ]
  },
  {
   "cell_type": "code",
   "execution_count": 2,
   "id": "sunset-binding",
   "metadata": {},
   "outputs": [],
   "source": [
    "np.random.seed(123)\n",
    "tf.random.set_seed(123)"
   ]
  },
  {
   "cell_type": "code",
   "execution_count": 3,
   "id": "seven-integrity",
   "metadata": {},
   "outputs": [],
   "source": [
    "new_data = './dcai_gcb_00/dcai_gcb_00'"
   ]
  },
  {
   "cell_type": "code",
   "execution_count": 4,
   "id": "imposed-support",
   "metadata": {},
   "outputs": [],
   "source": [
    "n_val = 100\n",
    "\n",
    "numerals = [\"i\", \"ii\", \"iii\", \"iv\", \"v\", \"vi\", \"vii\", \"viii\", \"ix\", \"x\"]\n",
    "\n",
    "val_dir = new_data + '/val'\n",
    "if os.path.exists(val_dir):\n",
    "    shutil.rmtree(val_dir)\n",
    "\n",
    "for i, num in enumerate(numerals):\n",
    "    num_dir = new_data + '/train/{}/'.format(num)\n",
    "    os.makedirs(num_dir.replace('/train/', '/val/'))\n",
    "        \n",
    "    num_pattern = new_data + '/train/{}/*.png'.format(num)\n",
    "    fps = glob(num_pattern)\n",
    "    random.shuffle(fps)\n",
    "    choices = np.random.choice(np.arange(len(fps)), size=n_val, replace=False)\n",
    "    for choice in choices:\n",
    "        source = fps[choice]\n",
    "        dest = source.replace('/train/', '/val/')\n",
    "        shutil.move(source, dest)"
   ]
  },
  {
   "cell_type": "code",
   "execution_count": 5,
   "id": "varied-outside",
   "metadata": {},
   "outputs": [],
   "source": [
    "horiz_sym = ['i', 'ii', 'iii', 'x', 'v']\n",
    "vert_sym = ['i', 'ii', 'iii', 'x', 'ix']\n",
    "\n",
    "for num in horiz_sym:\n",
    "    num_dir = new_data + '/train/{}/*.png'.format(num)\n",
    "    fps = [fp for fp in glob(num_dir) if '_vert' not in fp and '_horiz' not in fp]\n",
    "    for fp in fps:\n",
    "        image = Image.open(fp)\n",
    "        arr = asarray(image)\n",
    "        arr2 = arr[:, ::-1]  # horizontal sym\n",
    "        image2 = Image.fromarray(arr2)\n",
    "        image2.save(fp.replace('.png', '_horiz.png'))\n",
    "        \n",
    "for num in vert_sym:\n",
    "    num_dir = new_data + '/train/{}/*.png'.format(num)\n",
    "    fps = [fp for fp in glob(num_dir) if '_vert' not in fp and '_horiz' not in fp]\n",
    "    for fp in fps:\n",
    "        image = Image.open(fp)\n",
    "        arr = asarray(image)\n",
    "        arr2 = arr[::-1, :]  # vert sym\n",
    "        image2 = Image.fromarray(arr2)\n",
    "        image2.save(fp.replace('.png', '_vert.png'))"
   ]
  },
  {
   "cell_type": "code",
   "execution_count": 6,
   "id": "greatest-blast",
   "metadata": {},
   "outputs": [],
   "source": [
    "for num, target in (('vi', 'iv'), ('iv', 'vi')):\n",
    "    num_dir = new_data + '/train/{}/*.png'.format(num)\n",
    "    fps = glob(num_dir)\n",
    "    for fp in fps:\n",
    "        image = Image.open(fp)\n",
    "        arr = asarray(image)\n",
    "        arr2 = arr[:, ::-1]  # horizontal sym\n",
    "        image2 = Image.fromarray(arr2)\n",
    "        image2.save(fp.replace(num, target).replace('.png', '_horiz.png'))"
   ]
  },
  {
   "cell_type": "code",
   "execution_count": 7,
   "id": "fabulous-frequency",
   "metadata": {},
   "outputs": [
    {
     "name": "stdout",
     "output_type": "stream",
     "text": [
      "Need 240 more files for numeral \"i\"\n",
      "Need 588 more files for numeral \"ii\"\n",
      "Need 594 more files for numeral \"iii\"\n",
      "Need 538 more files for numeral \"iv\"\n",
      "Need 614 more files for numeral \"v\"\n",
      "Need 406 more files for numeral \"vi\"\n",
      "Need 753 more files for numeral \"vii\"\n",
      "Need 744 more files for numeral \"viii\"\n",
      "Need 544 more files for numeral \"ix\"\n",
      "Need 501 more files for numeral \"x\"\n"
     ]
    }
   ],
   "source": [
    "for n in numerals:\n",
    "    num_pattern = new_data + '/*/{}/*.png'.format(n)\n",
    "    fps = glob(num_pattern)\n",
    "    n_required = 1000 - len(fps)\n",
    "    print('Need {} more files for numeral \"{}\"'.format(n_required, n))"
   ]
  },
  {
   "cell_type": "code",
   "execution_count": null,
   "id": "equipped-headline",
   "metadata": {},
   "outputs": [],
   "source": []
  }
 ],
 "metadata": {
  "kernelspec": {
   "display_name": "Python 3",
   "language": "python",
   "name": "python3"
  },
  "language_info": {
   "codemirror_mode": {
    "name": "ipython",
    "version": 3
   },
   "file_extension": ".py",
   "mimetype": "text/x-python",
   "name": "python",
   "nbconvert_exporter": "python",
   "pygments_lexer": "ipython3",
   "version": "3.8.5"
  }
 },
 "nbformat": 4,
 "nbformat_minor": 5
}
