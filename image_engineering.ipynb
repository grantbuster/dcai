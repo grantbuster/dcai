{
 "cells": [
  {
   "cell_type": "markdown",
   "id": "opened-measurement",
   "metadata": {},
   "source": [
    "# Initialize a fresh test data dir\n",
    "\n",
    "Includes horiz and vertical symmetry manipulations"
   ]
  },
  {
   "cell_type": "code",
   "execution_count": 3,
   "id": "opposite-incentive",
   "metadata": {},
   "outputs": [],
   "source": [
    "import os\n",
    "import shutil\n",
    "import tensorflow as tf\n",
    "from tensorflow import keras\n",
    "import numpy as np\n",
    "from numpy import asarray\n",
    "import h5py\n",
    "from glob import glob\n",
    "import json\n",
    "import sys\n",
    "import random\n",
    "import PIL\n",
    "from PIL import Image, ImageEnhance\n",
    "import matplotlib.pyplot as plt"
   ]
  },
  {
   "cell_type": "code",
   "execution_count": 4,
   "id": "intended-haven",
   "metadata": {},
   "outputs": [],
   "source": [
    "np.random.seed(123)\n",
    "tf.random.set_seed(123)"
   ]
  },
  {
   "cell_type": "code",
   "execution_count": 5,
   "id": "seventh-patrick",
   "metadata": {},
   "outputs": [],
   "source": [
    "new_data = './dcai_gcb_01/dcai_gcb_01'"
   ]
  },
  {
   "cell_type": "code",
   "execution_count": null,
   "id": "emerging-puzzle",
   "metadata": {},
   "outputs": [],
   "source": []
  },
  {
   "cell_type": "code",
   "execution_count": 8,
   "id": "waiting-principal",
   "metadata": {},
   "outputs": [],
   "source": [
    "def run(fp_source, fp_dest, horiz=False, vert=False, rotate=False, show=False, enhance=1, contrast=1, resize=(32, 32)):\n",
    "    image = Image.open(fp_source)\n",
    "    image_out = Image.open(fp_source)\n",
    "    \n",
    "    if horiz:\n",
    "        arr = asarray(image_out)\n",
    "        arr = arr[:, ::-1]  # horizontal sym\n",
    "        image_out = Image.fromarray(arr)\n",
    "    if vert:\n",
    "        arr = asarray(image_out)\n",
    "        arr = arr[::-1, :]  # vert sym\n",
    "        image_out = Image.fromarray(arr)\n",
    "    \n",
    "    if rotate:\n",
    "        image_out = image_out.rotate(rotate, PIL.Image.NEAREST, \n",
    "                                     expand=False, \n",
    "                                     fillcolor='white')\n",
    "\n",
    "    image_out = image_out.resize(resize)\n",
    "    \n",
    "    image_out = ImageEnhance.Sharpness(image_out)\n",
    "    image_out = image_out.enhance(enhance)\n",
    "    image_out = ImageEnhance.Contrast(image_out)\n",
    "    image_out = image_out.enhance(contrast)\n",
    "        \n",
    "    if show:\n",
    "        fig = plt.figure(figsize=(15, 5))\n",
    "        ax1 = fig.add_subplot(131)\n",
    "        ax2 = fig.add_subplot(132)\n",
    "        ax3 = fig.add_subplot(133)\n",
    "        ax1.imshow(image, cmap='binary_r')\n",
    "        ax2.imshow(image.resize(resize), cmap='binary_r')\n",
    "        ax3.imshow(image_out, cmap='binary_r')\n",
    "        plt.show()\n",
    "        plt.close()\n",
    "\n",
    "    if fp_dest is not None:\n",
    "        image_out.save(fp_dest)"
   ]
  },
  {
   "cell_type": "code",
   "execution_count": 14,
   "id": "blessed-nigeria",
   "metadata": {},
   "outputs": [
    {
     "data": {
      "image/png": "[encoded data removed]",
      "text/plain": [
       "<Figure size 1080x360 with 3 Axes>"
      ]
     },
     "metadata": {
      "needs_background": "light"
     },
     "output_type": "display_data"
    }
   ],
   "source": [
    "num = 'viii'\n",
    "num_dir = new_data + '/train/{}/*.png'.format(num)\n",
    "fps = [fp for fp in glob(num_dir) if '_vert' not in fp and '_horiz' not in fp]\n",
    "fp = fps[100]\n",
    "fp_out = None\n",
    "run(fp, fp_out, vert=False, show=True, enhance=0.3, rotate=20)"
   ]
  },
  {
   "cell_type": "code",
   "execution_count": 28,
   "id": "young-offense",
   "metadata": {},
   "outputs": [
    {
     "data": {
      "text/plain": [
       "'./dcai_gcb_01/dcai_gcb_01/train/ix/af0235dc-ce5d-11eb-b317-38f9d35ea60f.png'"
      ]
     },
     "execution_count": 28,
     "metadata": {},
     "output_type": "execute_result"
    }
   ],
   "source": [
    "fp"
   ]
  },
  {
   "cell_type": "code",
   "execution_count": 37,
   "id": "bacterial-april",
   "metadata": {},
   "outputs": [
    {
     "name": "stdout",
     "output_type": "stream",
     "text": [
      "Found 1545 files belonging to 10 classes.\n"
     ]
    }
   ],
   "source": [
    "train = tf.keras.preprocessing.image_dataset_from_directory(\n",
    "    './dcai_gcb_01/dcai_gcb_01/train',\n",
    "    labels=\"inferred\",\n",
    "    label_mode=\"categorical\",\n",
    "    class_names=[\"i\", \"ii\", \"iii\", \"iv\", \"v\", \"vi\", \"vii\", \"viii\", \"ix\", \"x\"],\n",
    "    shuffle=False,\n",
    "    seed=123,\n",
    "    batch_size=8,\n",
    "    image_size=(256, 256),\n",
    ")"
   ]
  },
  {
   "cell_type": "code",
   "execution_count": 38,
   "id": "polish-analysis",
   "metadata": {},
   "outputs": [
    {
     "data": {
      "text/plain": [
       "1347"
      ]
     },
     "execution_count": 38,
     "metadata": {},
     "output_type": "execute_result"
    }
   ],
   "source": [
    "train.file_paths.index('./dcai_gcb_01/dcai_gcb_01/train/ix/af0235dc-ce5d-11eb-b317-38f9d35ea60f.png')"
   ]
  },
  {
   "cell_type": "code",
   "execution_count": 39,
   "id": "dominant-maria",
   "metadata": {},
   "outputs": [],
   "source": [
    "for i, x in enumerate(train.unbatch()):\n",
    "    if i == train.file_paths.index('./dcai_gcb_01/dcai_gcb_01/train/ix/af0235dc-ce5d-11eb-b317-38f9d35ea60f.png'):\n",
    "        break"
   ]
  },
  {
   "cell_type": "code",
   "execution_count": 40,
   "id": "every-nudist",
   "metadata": {},
   "outputs": [
    {
     "data": {
      "text/plain": [
       "<matplotlib.image.AxesImage at 0x7f74b88a0340>"
      ]
     },
     "execution_count": 40,
     "metadata": {},
     "output_type": "execute_result"
    },
    {
     "data": {
      "image/png": "[encoded data removed]",
      "text/plain": [
       "<Figure size 432x288 with 1 Axes>"
      ]
     },
     "metadata": {
      "needs_background": "light"
     },
     "output_type": "display_data"
    }
   ],
   "source": [
    "plt.imshow(x[0].numpy().astype(np.uint8))"
   ]
  },
  {
   "cell_type": "code",
   "execution_count": 5,
   "id": "cooked-yemen",
   "metadata": {},
   "outputs": [],
   "source": [
    "horiz_sym = ['i', 'ii', 'iii', 'x', 'v']\n",
    "vert_sym = ['i', 'ii', 'iii', 'x', 'ix']\n",
    "\n",
    "for num in horiz_sym:\n",
    "    num_dir = new_data + '/train/{}/*.png'.format(num)\n",
    "    fps = [fp for fp in glob(num_dir) if '_vert' not in fp and '_horiz' not in fp]\n",
    "    for fp in fps:\n",
    "        fp_out = fp.replace('.png', '_horiz.png')\n",
    "        run(fp, fp_out, horiz=True)\n",
    "        \n",
    "for num in vert_sym:\n",
    "    num_dir = new_data + '/train/{}/*.png'.format(num)\n",
    "    fps = [fp for fp in glob(num_dir) if '_vert' not in fp and '_horiz' not in fp]\n",
    "    for fp in fps:\n",
    "        fp_out = fp.replace('.png', '_vert.png')\n",
    "        run(fp, fp_out, vert=True)"
   ]
  },
  {
   "cell_type": "code",
   "execution_count": 6,
   "id": "royal-application",
   "metadata": {},
   "outputs": [],
   "source": [
    "for num, target in (('vi', 'iv'), ('iv', 'vi')):\n",
    "    num_dir = new_data + '/train/{}/*.png'.format(num)\n",
    "    fps = glob(num_dir)\n",
    "    for fp in fps:\n",
    "        fp_out = fp.replace(num, target).replace('.png', '_horiz.png')\n",
    "        run(fp, fp_out, horiz=True)"
   ]
  },
  {
   "cell_type": "code",
   "execution_count": 7,
   "id": "popular-salem",
   "metadata": {},
   "outputs": [
    {
     "name": "stdout",
     "output_type": "stream",
     "text": [
      "Need 240 more files for numeral \"i\"\n",
      "Need 588 more files for numeral \"ii\"\n",
      "Need 594 more files for numeral \"iii\"\n",
      "Need 538 more files for numeral \"iv\"\n",
      "Need 614 more files for numeral \"v\"\n",
      "Need 406 more files for numeral \"vi\"\n",
      "Need 753 more files for numeral \"vii\"\n",
      "Need 744 more files for numeral \"viii\"\n",
      "Need 544 more files for numeral \"ix\"\n",
      "Need 501 more files for numeral \"x\"\n"
     ]
    }
   ],
   "source": [
    "for n in numerals:\n",
    "    num_pattern = new_data + '/*/{}/*.png'.format(n)\n",
    "    fps = glob(num_pattern)\n",
    "    n_required = 1000 - len(fps)\n",
    "    print('Need {} more files for numeral \"{}\"'.format(n_required, n))"
   ]
  },
  {
   "cell_type": "code",
   "execution_count": null,
   "id": "fossil-start",
   "metadata": {},
   "outputs": [],
   "source": []
  }
 ],
 "metadata": {
  "kernelspec": {
   "display_name": "Python 3",
   "language": "python",
   "name": "python3"
  },
  "language_info": {
   "codemirror_mode": {
    "name": "ipython",
    "version": 3
   },
   "file_extension": ".py",
   "mimetype": "text/x-python",
   "name": "python",
   "nbconvert_exporter": "python",
   "pygments_lexer": "ipython3",
   "version": "3.8.5"
  }
 },
 "nbformat": 4,
 "nbformat_minor": 5
}
