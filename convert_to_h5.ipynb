{
 "cells": [
  {
   "cell_type": "code",
   "execution_count": 1,
   "id": "sapphire-hamburg",
   "metadata": {},
   "outputs": [],
   "source": [
    "import tensorflow as tf\n",
    "from tensorflow import keras\n",
    "import numpy as np\n",
    "import h5py\n",
    "from glob import glob\n",
    "import json\n",
    "import sys"
   ]
  },
  {
   "cell_type": "code",
   "execution_count": 2,
   "id": "sunrise-progress",
   "metadata": {},
   "outputs": [],
   "source": [
    "index = 9\n",
    "numeral = 'x'"
   ]
  },
  {
   "cell_type": "code",
   "execution_count": 3,
   "id": "august-capacity",
   "metadata": {},
   "outputs": [],
   "source": [
    "user_data = str('./data/data')\n",
    "train_data = user_data + '/train/'\n",
    "val_data = user_data + '/val/'\n",
    "\n",
    "test_data = str('./label_book/label_book')\n",
    "tf.random.set_seed(123)"
   ]
  },
  {
   "cell_type": "code",
   "execution_count": 4,
   "id": "manufactured-bullet",
   "metadata": {},
   "outputs": [],
   "source": [
    "def get_numpy_images(data_dir, shuffle=True, image_size=(32, 32), \n",
    "                     class_names=[\"i\", \"ii\", \"iii\", \"iv\", \"v\", \"vi\", \"vii\", \"viii\", \"ix\", \"x\"]):\n",
    "    files = glob(data_dir + '/*/*.png')\n",
    "    n_files = len(files)\n",
    "    train = tf.keras.preprocessing.image_dataset_from_directory(\n",
    "        data_dir,\n",
    "        labels=\"inferred\",\n",
    "        label_mode=\"categorical\",\n",
    "        class_names=class_names,\n",
    "        shuffle=shuffle,\n",
    "        seed=123,\n",
    "        batch_size=n_files,\n",
    "        image_size=image_size,\n",
    "    )\n",
    "\n",
    "    for images, labels in train.take(1):\n",
    "        images = images.numpy().astype(np.uint8)\n",
    "        labels = labels.numpy().astype(np.uint8)\n",
    "        images = images[:, :, :, 0]\n",
    "        break\n",
    "        \n",
    "    return images, labels"
   ]
  },
  {
   "cell_type": "code",
   "execution_count": 5,
   "id": "sunrise-retailer",
   "metadata": {},
   "outputs": [
    {
     "name": "stdout",
     "output_type": "stream",
     "text": [
      "Found 5278 files belonging to 10 classes.\n",
      "Found 500 files belonging to 10 classes.\n"
     ]
    },
    {
     "data": {
      "text/plain": [
       "((5278, 32, 32), (500, 32, 32))"
      ]
     },
     "execution_count": 5,
     "metadata": {},
     "output_type": "execute_result"
    }
   ],
   "source": [
    "train_images, train_labels = get_numpy_images(train_data)\n",
    "val_images, val_labels = get_numpy_images(val_data)\n",
    "train_images.shape, val_images.shape"
   ]
  },
  {
   "cell_type": "code",
   "execution_count": 6,
   "id": "parallel-cambodia",
   "metadata": {},
   "outputs": [
    {
     "data": {
      "text/plain": [
       "((5778, 32, 32), (5778, 10))"
      ]
     },
     "execution_count": 6,
     "metadata": {},
     "output_type": "execute_result"
    }
   ],
   "source": [
    "images = np.concatenate((train_images, val_images), axis=0)\n",
    "labels = np.concatenate((train_labels, val_labels), axis=0)\n",
    "images.shape, labels.shape"
   ]
  },
  {
   "cell_type": "code",
   "execution_count": 7,
   "id": "institutional-cruise",
   "metadata": {},
   "outputs": [
    {
     "data": {
      "text/plain": [
       "((699, 32, 32), (699, 10))"
      ]
     },
     "execution_count": 7,
     "metadata": {},
     "output_type": "execute_result"
    }
   ],
   "source": [
    "mask = labels[:, index] == 1\n",
    "images = images[mask]\n",
    "labels = labels[mask]\n",
    "images.shape, labels.shape"
   ]
  },
  {
   "cell_type": "code",
   "execution_count": 8,
   "id": "german-humanitarian",
   "metadata": {},
   "outputs": [
    {
     "data": {
      "image/png": "[encoded data removed]",
      "text/plain": [
       "<Figure size 720x720 with 9 Axes>"
      ]
     },
     "metadata": {
      "needs_background": "light"
     },
     "output_type": "display_data"
    }
   ],
   "source": [
    "import matplotlib.pyplot as plt\n",
    "\n",
    "plt.figure(figsize=(10, 10))\n",
    "\n",
    "for i in range(9):\n",
    "    ax = plt.subplot(3, 3, i + 1)\n",
    "    plt.imshow(images[i])\n",
    "    label = np.where(labels[i, :])[0] + 1\n",
    "    plt.title(int(label))\n",
    "    plt.axis(\"off\")"
   ]
  },
  {
   "cell_type": "code",
   "execution_count": 12,
   "id": "respective-dayton",
   "metadata": {},
   "outputs": [
    {
     "name": "stdout",
     "output_type": "stream",
     "text": [
      "Found 5278 files belonging to 10 classes.\n",
      "Found 500 files belonging to 10 classes.\n",
      "Writing 960 images to image_data_i.h5\n",
      "Writing 612 images to image_data_ii.h5\n",
      "Writing 606 images to image_data_iii.h5\n",
      "Writing 562 images to image_data_iv.h5\n",
      "Writing 486 images to image_data_v.h5\n",
      "Writing 794 images to image_data_vi.h5\n",
      "Writing 247 images to image_data_vii.h5\n",
      "Writing 256 images to image_data_viii.h5\n",
      "Writing 556 images to image_data_ix.h5\n",
      "Writing 699 images to image_data_x.h5\n"
     ]
    }
   ],
   "source": [
    "numerals = [\"i\", \"ii\", \"iii\", \"iv\", \"v\", \"vi\", \"vii\", \"viii\", \"ix\", \"x\"]\n",
    "\n",
    "user_data = str('./data/data')\n",
    "train_data = user_data + '/train/'\n",
    "val_data = user_data + '/val/'\n",
    "\n",
    "train_images, train_labels = get_numpy_images(train_data)\n",
    "val_images, val_labels = get_numpy_images(val_data)\n",
    "images = np.concatenate((train_images, val_images), axis=0)\n",
    "labels = np.concatenate((train_labels, val_labels), axis=0)\n",
    "\n",
    "for index, num in enumerate(numerals):\n",
    "\n",
    "    mask = labels[:, index] == 1\n",
    "    num_images = images[mask]\n",
    "    num_labels = labels[mask]\n",
    "\n",
    "    fp_out = 'image_data_{}.h5'.format(num)\n",
    "    \n",
    "    print('Writing {} images to {}'.format(len(num_images), fp_out))\n",
    "\n",
    "    with h5py.File(fp_out, 'w') as f:\n",
    "        f['images'] = num_images\n",
    "        f['labels'] = num_labels"
   ]
  }
 ],
 "metadata": {
  "kernelspec": {
   "display_name": "Python 3",
   "language": "python",
   "name": "python3"
  },
  "language_info": {
   "codemirror_mode": {
    "name": "ipython",
    "version": 3
   },
   "file_extension": ".py",
   "mimetype": "text/x-python",
   "name": "python",
   "nbconvert_exporter": "python",
   "pygments_lexer": "ipython3",
   "version": "3.8.5"
  }
 },
 "nbformat": 4,
 "nbformat_minor": 5
}
