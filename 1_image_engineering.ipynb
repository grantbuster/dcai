{
 "cells": [
  {
   "cell_type": "markdown",
   "id": "employed-dance",
   "metadata": {},
   "source": [
    "# Initialize a fresh test data dir\n",
    "\n",
    "Includes horiz and vertical symmetry manipulations"
   ]
  },
  {
   "cell_type": "code",
   "execution_count": 1,
   "id": "uniform-pickup",
   "metadata": {},
   "outputs": [],
   "source": [
    "import os\n",
    "import shutil\n",
    "import tensorflow as tf\n",
    "from tensorflow import keras\n",
    "import numpy as np\n",
    "from numpy import asarray\n",
    "import h5py\n",
    "from glob import glob\n",
    "import json\n",
    "import sys\n",
    "import random\n",
    "import cv2\n",
    "import PIL\n",
    "from PIL import Image, ImageEnhance\n",
    "import matplotlib.pyplot as plt"
   ]
  },
  {
   "cell_type": "code",
   "execution_count": 2,
   "id": "premium-selling",
   "metadata": {},
   "outputs": [],
   "source": [
    "np.random.seed(123)\n",
    "tf.random.set_seed(123)"
   ]
  },
  {
   "cell_type": "code",
   "execution_count": 3,
   "id": "fourth-franklin",
   "metadata": {},
   "outputs": [
    {
     "name": "stdout",
     "output_type": "stream",
     "text": [
      "9992\n"
     ]
    }
   ],
   "source": [
    "data_dir = './dcai_gcb_02/dcai_gcb_02'\n",
    "train_dir = data_dir + '/train'\n",
    "val_dir = data_dir + '/val'\n",
    "numerals = [\"i\", \"ii\", \"iii\", \"iv\", \"v\", \"vi\", \"vii\", \"viii\", \"ix\", \"x\"]\n",
    "vae_frac = 0.1\n",
    "target_counts = {\n",
    "    'i': 370,\n",
    "    'ii': 592,\n",
    "    'iii': 700,\n",
    "    'iv': 1630,\n",
    "    'v': 800,\n",
    "    'vi': 900,\n",
    "    'vii': 1500,\n",
    "    'viii': 1500,\n",
    "    'ix': 1500,\n",
    "    'x': 500,\n",
    "}\n",
    "# print(sum(target_counts.values()))\n",
    "# target_counts = {k: int((1-vae_frac)*v) for k, v in target_counts.items()}\n",
    "print(sum(target_counts.values()))"
   ]
  },
  {
   "cell_type": "code",
   "execution_count": 4,
   "id": "thick-conspiracy",
   "metadata": {},
   "outputs": [],
   "source": [
    "def get_file_count(numeral):\n",
    "    num_pattern = data_dir + '/*/{}/*.png'.format(numeral)\n",
    "    fps = glob(num_pattern)\n",
    "    return len(fps)\n",
    "\n",
    "def get_n_required(numeral):\n",
    "    n_files = get_file_count(numeral)\n",
    "    n_required = target_counts[numeral] - n_files\n",
    "    if n_files > target_counts[numeral]:\n",
    "        msg = ('Bad file count for {} with {} files and {} requested'\n",
    "               .format(numeral, n_files, target_counts[numeral]))\n",
    "        raise RuntimeError(msg)\n",
    "    return n_required\n",
    "\n",
    "def count_all_files():\n",
    "    n_tot = 0\n",
    "    for n in numerals:\n",
    "        n_files = get_file_count(n)\n",
    "        n_tot += n_files\n",
    "        print('Numeral \"{}\" has {} files'.format(n, n_files))\n",
    "    print('Total of {} files'.format(n_tot))"
   ]
  },
  {
   "cell_type": "code",
   "execution_count": 5,
   "id": "abstract-swing",
   "metadata": {},
   "outputs": [
    {
     "name": "stdout",
     "output_type": "stream",
     "text": [
      "Numeral \"i\" has 320 files\n",
      "Numeral \"ii\" has 204 files\n",
      "Numeral \"iii\" has 202 files\n",
      "Numeral \"iv\" has 330 files\n",
      "Numeral \"v\" has 243 files\n",
      "Numeral \"vi\" has 232 files\n",
      "Numeral \"vii\" has 247 files\n",
      "Numeral \"viii\" has 256 files\n",
      "Numeral \"ix\" has 278 files\n",
      "Numeral \"x\" has 233 files\n",
      "Total of 2545 files\n"
     ]
    }
   ],
   "source": [
    "count_all_files()"
   ]
  },
  {
   "cell_type": "code",
   "execution_count": 6,
   "id": "handled-warehouse",
   "metadata": {},
   "outputs": [],
   "source": [
    "def run(fp_source, fp_dest, \n",
    "        horiz=False, \n",
    "        vert=False, \n",
    "        rotate=False, \n",
    "        erode=False,\n",
    "        dilate=False,\n",
    "        enhance=1, \n",
    "        contrast=1, \n",
    "        resize=(32, 32), \n",
    "        show=False):\n",
    "    \n",
    "    image = Image.open(fp_source)\n",
    "    image_out = Image.open(fp_source)\n",
    "    \n",
    "    if rotate == 'random':\n",
    "        rotate = np.random.normal(0, 12)\n",
    "    if enhance == 'random':\n",
    "        enhance = np.random.normal(1, 0.5)\n",
    "    if contrast == 'random':\n",
    "        contrast = np.maximum(0.3, np.random.normal(1, 0.5))\n",
    "    if erode == 'random':\n",
    "        erode = np.random.choice([0, 1], 1)\n",
    "    if dilate == 'random':\n",
    "        dilate = np.random.choice([0, 1], 1)\n",
    "        \n",
    "    if horiz:\n",
    "        arr = asarray(image_out)\n",
    "        arr = arr[:, ::-1]  # horizontal sym\n",
    "        image_out = Image.fromarray(arr)\n",
    "    if vert:\n",
    "        arr = asarray(image_out)\n",
    "        arr = arr[::-1, :]  # vert sym\n",
    "        image_out = Image.fromarray(arr)\n",
    "    if rotate:\n",
    "        image_out = image_out.rotate(rotate, PIL.Image.NEAREST, \n",
    "                                     expand=False, \n",
    "                                     fillcolor='white')\n",
    "    if erode:\n",
    "        kernel = np.ones((3, 3), np.uint8)\n",
    "        arr_out = cv2.erode(asarray(image_out), kernel, iterations=1)\n",
    "        image_out = Image.fromarray(arr_out)\n",
    "    if dilate:\n",
    "        kernel = np.ones((2, 2), np.uint8)\n",
    "        arr_out = cv2.dilate(asarray(image_out), kernel, iterations=1)\n",
    "        image_out = Image.fromarray(arr_out)\n",
    "\n",
    "    image_out = image_out.resize(resize)\n",
    "\n",
    "    image_out = ImageEnhance.Sharpness(image_out)\n",
    "    image_out = image_out.enhance(enhance)\n",
    "    image_out = ImageEnhance.Contrast(image_out)\n",
    "    image_out = image_out.enhance(contrast)\n",
    "\n",
    "    if show:\n",
    "        fig = plt.figure(figsize=(15, 5))\n",
    "        ax1 = fig.add_subplot(131)\n",
    "        ax2 = fig.add_subplot(132)\n",
    "        ax3 = fig.add_subplot(133)\n",
    "        ax1.imshow(image, cmap='binary_r')\n",
    "        ax2.imshow(image.resize(resize), cmap='binary_r')\n",
    "        ax3.imshow(image_out, cmap='binary_r')\n",
    "        plt.show()\n",
    "        plt.close()\n",
    "\n",
    "    if fp_dest is not None:\n",
    "        image_out.save(fp_dest)"
   ]
  },
  {
   "cell_type": "code",
   "execution_count": 7,
   "id": "willing-basin",
   "metadata": {},
   "outputs": [
    {
     "data": {
      "image/png": "[encoded data removed]",
      "text/plain": [
       "<Figure size 1080x360 with 3 Axes>"
      ]
     },
     "metadata": {
      "needs_background": "light"
     },
     "output_type": "display_data"
    }
   ],
   "source": [
    "num = 'viii'\n",
    "num_dir = data_dir + '/train/{}/*.png'.format(num)\n",
    "fps = [fp for fp in glob(num_dir) if '_vert' not in fp and '_horiz' not in fp]\n",
    "fp = fps[100]\n",
    "fp_out = None\n",
    "run(fp, fp_out, horiz=False, vert=False, \n",
    "    enhance='random', \n",
    "    contrast='random', \n",
    "    rotate='random', \n",
    "    erode='random', \n",
    "    dilate='random', \n",
    "    show=True)"
   ]
  },
  {
   "cell_type": "code",
   "execution_count": 8,
   "id": "studied-maple",
   "metadata": {},
   "outputs": [],
   "source": [
    "ifile = 0\n",
    "horiz_sym = ['i', 'ii', 'iii', 'x', 'v']\n",
    "vert_sym = ['i', 'ii', 'iii', 'x', 'ix']\n",
    "no_sym = ['vii', 'viii']\n",
    "\n",
    "jobs = {\n",
    "    'i': {'horiz': True, 'vert': True},\n",
    "    'ii': {'horiz': True, 'vert': True},\n",
    "    'iii': {'horiz': True, 'vert': True},\n",
    "    'iv': {'horiz': False, 'vert': False, 'target': 'vi'},\n",
    "    'v': {'horiz': True, 'vert': False},\n",
    "    'vi': {'horiz': False, 'vert': False, 'target': 'iv'},\n",
    "    'vii': {'horiz': False, 'vert': False},\n",
    "    'viii': {'horiz': False, 'vert': False},\n",
    "    'ix': {'horiz': False, 'vert': True},\n",
    "    'x': {'horiz': True, 'vert': True},\n",
    "}"
   ]
  },
  {
   "cell_type": "code",
   "execution_count": 9,
   "id": "interracial-panama",
   "metadata": {},
   "outputs": [],
   "source": [
    "for num, kwargs in jobs.items():\n",
    "    n_required = get_n_required(num)\n",
    "    num_dir = data_dir + '/train/{}/*.png'.format(num)\n",
    "    fps = [fp for fp in glob(num_dir) if '_eng_' not in fp]\n",
    "    ifps = np.random.choice(np.arange(len(fps)), n_required, replace=True)\n",
    "    for i in ifps:\n",
    "        fp = fps[i]\n",
    "        \n",
    "        if 'target' in kwargs:\n",
    "            target = kwargs.pop('target')\n",
    "            base_dir = os.path.dirname(fp).replace(num, target)\n",
    "            fp_out = os.path.join(base_dir, '{}_eng_{}.png'.format(target, str(ifile).zfill(5)))\n",
    "        else:\n",
    "            base_dir = os.path.dirname(fp)\n",
    "            fp_out = os.path.join(base_dir, '{}_eng_{}.png'.format(num, str(ifile).zfill(5)))\n",
    "        \n",
    "        run(fp, fp_out, \n",
    "            enhance='random', \n",
    "            contrast='random', \n",
    "            rotate='random', \n",
    "            erode='random', \n",
    "            dilate='random', \n",
    "            show=False, \n",
    "            **kwargs)\n",
    "        ifile += 1"
   ]
  },
  {
   "cell_type": "code",
   "execution_count": 10,
   "id": "descending-reggae",
   "metadata": {},
   "outputs": [
    {
     "name": "stdout",
     "output_type": "stream",
     "text": [
      "Numeral \"i\" has 370 files\n",
      "Numeral \"ii\" has 592 files\n",
      "Numeral \"iii\" has 700 files\n",
      "Numeral \"iv\" has 1630 files\n",
      "Numeral \"v\" has 800 files\n",
      "Numeral \"vi\" has 899 files\n",
      "Numeral \"vii\" has 1500 files\n",
      "Numeral \"viii\" has 1500 files\n",
      "Numeral \"ix\" has 1500 files\n",
      "Numeral \"x\" has 500 files\n",
      "Total of 9991 files\n"
     ]
    }
   ],
   "source": [
    "count_all_files()"
   ]
  }
 ],
 "metadata": {
  "kernelspec": {
   "display_name": "Python 3",
   "language": "python",
   "name": "python3"
  },
  "language_info": {
   "codemirror_mode": {
    "name": "ipython",
    "version": 3
   },
   "file_extension": ".py",
   "mimetype": "text/x-python",
   "name": "python",
   "nbconvert_exporter": "python",
   "pygments_lexer": "ipython3",
   "version": "3.8.5"
  }
 },
 "nbformat": 4,
 "nbformat_minor": 5
}
