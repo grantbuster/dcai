{
 "cells": [
  {
   "cell_type": "code",
   "execution_count": 1,
   "id": "discrete-overhead",
   "metadata": {},
   "outputs": [],
   "source": [
    "from glob import glob\n",
    "import os\n",
    "import pandas as pd\n",
    "import shutil\n",
    "from pigeon import annotate\n",
    "from IPython.display import display, Image"
   ]
  },
  {
   "cell_type": "code",
   "execution_count": 2,
   "id": "executed-windows",
   "metadata": {},
   "outputs": [],
   "source": [
    "new_data = './dcai_gcb_00/dcai_gcb_00'\n",
    "vae_data = './vae_out'"
   ]
  },
  {
   "cell_type": "code",
   "execution_count": 3,
   "id": "dental-clear",
   "metadata": {},
   "outputs": [],
   "source": [
    "n = 'ix'\n",
    "pattern = vae_data + '/' + str(n) + '/*.png'\n",
    "fps = glob(pattern)"
   ]
  },
  {
   "cell_type": "code",
   "execution_count": 4,
   "id": "ambient-rotation",
   "metadata": {},
   "outputs": [
    {
     "data": {
      "application/vnd.jupyter.widget-view+json": {
       "model_id": "d5e8de8e63fa49179748a636c38530e4",
       "version_major": 2,
       "version_minor": 0
      },
      "text/plain": [
       "HTML(value='0 examples annotated, 5001 examples left')"
      ]
     },
     "metadata": {},
     "output_type": "display_data"
    },
    {
     "data": {
      "application/vnd.jupyter.widget-view+json": {
       "model_id": "82bd216903ef40daba89e37d5f772243",
       "version_major": 2,
       "version_minor": 0
      },
      "text/plain": [
       "HBox(children=(Button(description='good', style=ButtonStyle()), Button(description='bad', style=ButtonStyle())…"
      ]
     },
     "metadata": {},
     "output_type": "display_data"
    },
    {
     "data": {
      "application/vnd.jupyter.widget-view+json": {
       "model_id": "ad7459eba9f1436a881dbcb4a13ef097",
       "version_major": 2,
       "version_minor": 0
      },
      "text/plain": [
       "Output()"
      ]
     },
     "metadata": {},
     "output_type": "display_data"
    }
   ],
   "source": [
    "annotations = annotate(\n",
    "  fps,\n",
    "  options=['good', 'bad'],\n",
    "  display_fn=lambda filename: display(Image(filename, width=400, height=400))\n",
    ")"
   ]
  },
  {
   "cell_type": "code",
   "execution_count": 23,
   "id": "attractive-relationship",
   "metadata": {},
   "outputs": [
    {
     "data": {
      "text/plain": [
       "(484, (2181, 3))"
      ]
     },
     "execution_count": 23,
     "metadata": {},
     "output_type": "execute_result"
    }
   ],
   "source": [
    "df = pd.DataFrame(annotations, columns=['fp', 'label'])\n",
    "df['good'] = (df['label'] == 'good')\n",
    "df['good'].sum(), df.shape"
   ]
  },
  {
   "cell_type": "code",
   "execution_count": 24,
   "id": "saved-spirit",
   "metadata": {},
   "outputs": [],
   "source": [
    "df.to_csv('./vae_labels_{}.csv'.format(n))"
   ]
  },
  {
   "cell_type": "code",
   "execution_count": null,
   "id": "european-accident",
   "metadata": {},
   "outputs": [],
   "source": []
  }
 ],
 "metadata": {
  "kernelspec": {
   "display_name": "Python 3",
   "language": "python",
   "name": "python3"
  },
  "language_info": {
   "codemirror_mode": {
    "name": "ipython",
    "version": 3
   },
   "file_extension": ".py",
   "mimetype": "text/x-python",
   "name": "python",
   "nbconvert_exporter": "python",
   "pygments_lexer": "ipython3",
   "version": "3.8.5"
  }
 },
 "nbformat": 4,
 "nbformat_minor": 5
}
