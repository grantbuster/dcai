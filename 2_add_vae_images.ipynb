{
 "cells": [
  {
   "cell_type": "markdown",
   "id": "expressed-maine",
   "metadata": {},
   "source": [
    "# Backfill the data dir with supplemental vae images"
   ]
  },
  {
   "cell_type": "code",
   "execution_count": 1,
   "id": "behind-teach",
   "metadata": {},
   "outputs": [],
   "source": [
    "import os\n",
    "import shutil\n",
    "from glob import glob\n",
    "import pandas as pd\n",
    "import numpy as np\n",
    "\n",
    "np.random.seed(123)"
   ]
  },
  {
   "cell_type": "code",
   "execution_count": 2,
   "id": "neither-observer",
   "metadata": {},
   "outputs": [
    {
     "name": "stdout",
     "output_type": "stream",
     "text": [
      "9992\n"
     ]
    }
   ],
   "source": [
    "data_dir = './dcai_gcb_02/dcai_gcb_02'\n",
    "train_dir = data_dir + '/train'\n",
    "val_dir = data_dir + '/val'\n",
    "numerals = [\"i\", \"ii\", \"iii\", \"iv\", \"v\", \"vi\", \"vii\", \"viii\", \"ix\", \"x\"]\n",
    "vae_frac = 0.1\n",
    "target_counts = {\n",
    "    'i': 370,\n",
    "    'ii': 592,\n",
    "    'iii': 700,\n",
    "    'iv': 1630,\n",
    "    'v': 800,\n",
    "    'vi': 900,\n",
    "    'vii': 1500,\n",
    "    'viii': 1500,\n",
    "    'ix': 1500,\n",
    "    'x': 500,\n",
    "}\n",
    "# print(sum(target_counts.values()))\n",
    "# target_counts = {k: int((1-vae_frac)*v) for k, v in target_counts.items()}\n",
    "print(sum(target_counts.values()))"
   ]
  },
  {
   "cell_type": "code",
   "execution_count": 3,
   "id": "vital-forward",
   "metadata": {},
   "outputs": [],
   "source": [
    "def get_file_count(numeral):\n",
    "    num_pattern = data_dir + '/*/{}/*.png'.format(numeral)\n",
    "    fps = glob(num_pattern)\n",
    "    return len(fps)\n",
    "\n",
    "def get_n_required(numeral):\n",
    "    n_files = get_file_count(numeral)\n",
    "    n_required = target_counts[numeral] - n_files\n",
    "    if n_files > target_counts[numeral]:\n",
    "        msg = ('Bad file count for {} with {} files and {} requested'\n",
    "               .format(numeral, n_files, target_counts[numeral]))\n",
    "        raise RuntimeError(msg)\n",
    "    return n_required\n",
    "\n",
    "def count_all_files():\n",
    "    n_tot = 0\n",
    "    for n in numerals:\n",
    "        n_files = get_file_count(n)\n",
    "        n_tot += n_files\n",
    "        print('Numeral \"{}\" has {} files'.format(n, n_files))\n",
    "    print('Total of {} files'.format(n_tot))"
   ]
  },
  {
   "cell_type": "code",
   "execution_count": 8,
   "id": "copyrighted-professional",
   "metadata": {},
   "outputs": [
    {
     "name": "stdout",
     "output_type": "stream",
     "text": [
      "Need 0 files for i\n",
      "Need 0 files for ii\n",
      "Need 0 files for iii\n",
      "Need 0 files for iv\n",
      "Need 0 files for v\n",
      "Need 0 files for vi\n",
      "Need 0 files for vii\n",
      "Need 0 files for viii\n",
      "Need 0 files for ix\n",
      "Need 0 files for x\n"
     ]
    }
   ],
   "source": [
    "for n in numerals:\n",
    "    vae_df = pd.read_csv('./vae_labels_{}.csv'.format(n), index_col=0)\n",
    "    vae_df = vae_df[vae_df.good.astype(bool)]\n",
    "    n_train_dir = train_dir + '/{}'.format(n)\n",
    "\n",
    "    n_vae_files = get_n_required(n)\n",
    "    print('Need {} files for {}'.format(n_vae_files, n))\n",
    "\n",
    "    vae_df = vae_df.sample(n=n_vae_files, replace=False)\n",
    "    assert len(vae_df) == n_vae_files\n",
    "    assert (vae_df['label'] == 'good').all()\n",
    "    \n",
    "    for fp in vae_df['fp']:\n",
    "        dest = os.path.join(n_train_dir, os.path.basename(fp))\n",
    "        shutil.copy(fp, dest)"
   ]
  },
  {
   "cell_type": "code",
   "execution_count": 6,
   "id": "offensive-problem",
   "metadata": {},
   "outputs": [
    {
     "name": "stdout",
     "output_type": "stream",
     "text": [
      "Numeral \"i\" has 370 files\n",
      "Numeral \"ii\" has 592 files\n",
      "Numeral \"iii\" has 700 files\n",
      "Numeral \"iv\" has 1630 files\n",
      "Numeral \"v\" has 800 files\n",
      "Numeral \"vi\" has 900 files\n",
      "Numeral \"vii\" has 1500 files\n",
      "Numeral \"viii\" has 1500 files\n",
      "Numeral \"ix\" has 1500 files\n",
      "Numeral \"x\" has 500 files\n",
      "Total of 9992 files\n"
     ]
    }
   ],
   "source": [
    "count_all_files()"
   ]
  }
 ],
 "metadata": {
  "kernelspec": {
   "display_name": "Python 3",
   "language": "python",
   "name": "python3"
  },
  "language_info": {
   "codemirror_mode": {
    "name": "ipython",
    "version": 3
   },
   "file_extension": ".py",
   "mimetype": "text/x-python",
   "name": "python",
   "nbconvert_exporter": "python",
   "pygments_lexer": "ipython3",
   "version": "3.8.5"
  }
 },
 "nbformat": 4,
 "nbformat_minor": 5
}
