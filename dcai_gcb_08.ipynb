{
 "cells": [
  {
   "cell_type": "markdown",
   "id": "compact-motorcycle",
   "metadata": {},
   "source": [
    "# Initialize a fresh test data dir\n",
    "\n",
    "Includes horiz and vertical symmetry manipulations"
   ]
  },
  {
   "cell_type": "code",
   "execution_count": 1,
   "id": "strategic-collins",
   "metadata": {},
   "outputs": [],
   "source": [
    "import os\n",
    "import shutil\n",
    "import tensorflow as tf\n",
    "from tensorflow import keras\n",
    "import numpy as np\n",
    "import pandas as pd\n",
    "from numpy import asarray\n",
    "import h5py\n",
    "import json\n",
    "from glob import glob\n",
    "import json\n",
    "import sys\n",
    "import random\n",
    "import cv2\n",
    "import PIL\n",
    "from PIL import Image, ImageEnhance\n",
    "import matplotlib.pyplot as plt"
   ]
  },
  {
   "cell_type": "code",
   "execution_count": 2,
   "id": "laden-heart",
   "metadata": {},
   "outputs": [],
   "source": [
    "from train import train\n",
    "from utilities import (init_data_dir, count_all_files, engineer_images_by_num,\n",
    "                       parse_bad_images, engineer_bad_images, zipdir, process_image)"
   ]
  },
  {
   "cell_type": "code",
   "execution_count": 3,
   "id": "paperback-stuart",
   "metadata": {},
   "outputs": [],
   "source": [
    "np.random.seed(123)\n",
    "tf.random.set_seed(123)"
   ]
  },
  {
   "cell_type": "code",
   "execution_count": 4,
   "id": "otherwise-restoration",
   "metadata": {},
   "outputs": [],
   "source": [
    "NUMERALS = [\"i\", \"ii\", \"iii\", \"iv\", \"v\", \"vi\", \"vii\", \"viii\", \"ix\", \"x\"]"
   ]
  },
  {
   "cell_type": "code",
   "execution_count": 5,
   "id": "manufactured-innocent",
   "metadata": {
    "tags": []
   },
   "outputs": [],
   "source": [
    "data_dir = './dcai_gcb_08/dcai_gcb_08'\n",
    "hand_dir = './hand_drawn/'\n",
    "train_dir = data_dir + '/train'\n",
    "val_dir = data_dir + '/val'\n",
    "\n",
    "target_count_tot = 9995\n",
    "n_hand_images = 1500"
   ]
  },
  {
   "cell_type": "code",
   "execution_count": 6,
   "id": "macro-commander",
   "metadata": {},
   "outputs": [
    {
     "data": {
      "text/plain": [
       "'./dcai_gcb_08/dcai_gcb_08'"
      ]
     },
     "execution_count": 6,
     "metadata": {},
     "output_type": "execute_result"
    }
   ],
   "source": [
    "if os.path.exists(data_dir):\n",
    "    shutil.rmtree(data_dir)\n",
    "shutil.copytree('./data_baseline_clean/data_baseline_clean', './dcai_gcb_08/dcai_gcb_08')"
   ]
  },
  {
   "cell_type": "code",
   "execution_count": 7,
   "id": "fresh-folks",
   "metadata": {},
   "outputs": [],
   "source": [
    "# initial target file count - naive\n",
    "target_counts = {'i': 500, 'ii': 500, 'iii': 500, 'iv': 500,\n",
    "                 'v': 500, 'vi': 500, 'vii': 500, 'viii': 500,\n",
    "                 'ix': 500, 'x': 500}"
   ]
  },
  {
   "cell_type": "code",
   "execution_count": 8,
   "id": "basic-harris",
   "metadata": {},
   "outputs": [],
   "source": [
    "eng_kwargs = {\n",
    "    'i': {'horiz': True, 'vert': True},\n",
    "    'ii': {'horiz': True, 'vert': True},\n",
    "    'iii': {'horiz': True, 'vert': True},\n",
    "    'iv': {'horiz': False, 'vert': False, 'target': 'vi'},\n",
    "    'v': {'horiz': True, 'vert': False},\n",
    "    'vi': {'horiz': False, 'vert': False, 'target': 'iv'},\n",
    "    'vii': {'horiz': False, 'vert': False},\n",
    "    'viii': {'horiz': False, 'vert': False},\n",
    "    'ix': {'horiz': False, 'vert': True},\n",
    "    'x': {'horiz': True, 'vert': True},\n",
    "}"
   ]
  },
  {
   "cell_type": "code",
   "execution_count": 9,
   "id": "innovative-contemporary",
   "metadata": {},
   "outputs": [],
   "source": [
    "engineer_images_by_num(eng_kwargs, data_dir, target_counts)"
   ]
  },
  {
   "cell_type": "code",
   "execution_count": 10,
   "id": "adolescent-office",
   "metadata": {},
   "outputs": [
    {
     "name": "stdout",
     "output_type": "stream",
     "text": [
      "Numeral \"i\" has 500 files\n",
      "Numeral \"ii\" has 500 files\n",
      "Numeral \"iii\" has 500 files\n",
      "Numeral \"iv\" has 500 files\n",
      "Numeral \"v\" has 500 files\n",
      "Numeral \"vi\" has 499 files\n",
      "Numeral \"vii\" has 500 files\n",
      "Numeral \"viii\" has 500 files\n",
      "Numeral \"ix\" has 500 files\n",
      "Numeral \"x\" has 500 files\n",
      "Total of 4999 files\n",
      "Aiming for 3496 optimization files\n"
     ]
    }
   ],
   "source": [
    "_, file_count = count_all_files(data_dir)\n",
    "n_opt_files = target_count_tot - file_count - n_hand_images\n",
    "print('Aiming for {} optimization files'.format(n_opt_files))"
   ]
  },
  {
   "cell_type": "code",
   "execution_count": 11,
   "id": "photographic-shareware",
   "metadata": {},
   "outputs": [
    {
     "data": {
      "text/plain": [
       "['././dcai_gcb_08/dcai_gcb_08/val/i/b1ac72d4-ce5d-11eb-b317-38f9d35ea60f.png',\n",
       " '././dcai_gcb_08/dcai_gcb_08/val/ii/b13e7b12-ce5d-11eb-b317-38f9d35ea60f.png',\n",
       " '././dcai_gcb_08/dcai_gcb_08/val/ii/b1448f7a-ce5d-11eb-b317-38f9d35ea60f.png',\n",
       " '././dcai_gcb_08/dcai_gcb_08/val/ii/b151b448-ce5d-11eb-b317-38f9d35ea60f.png',\n",
       " '././dcai_gcb_08/dcai_gcb_08/val/ii/b1590d9c-ce5d-11eb-b317-38f9d35ea60f.png']"
      ]
     },
     "execution_count": 11,
     "metadata": {},
     "output_type": "execute_result"
    }
   ],
   "source": [
    "with open('./bad_image_record_dcai_gcb_07.json', 'r') as f:\n",
    "    bad_images = json.load(f)\n",
    "bad_images = {int(k): v for k, v in bad_images.items()}\n",
    "i_last = sorted([k for k in bad_images.keys()])[-1]\n",
    "bad_images = bad_images[i_last]\n",
    "bad_images = [bi.replace('_gcb_07', '_gcb_08') for bi in bad_images]\n",
    "bad_images[0:5]"
   ]
  },
  {
   "cell_type": "code",
   "execution_count": 12,
   "id": "equivalent-yacht",
   "metadata": {},
   "outputs": [
    {
     "name": "stdout",
     "output_type": "stream",
     "text": [
      "Engineering bad images with target count of 3496\n",
      "Numeral \"i\" has 500 files\n",
      "Numeral \"ii\" has 500 files\n",
      "Numeral \"iii\" has 500 files\n",
      "Numeral \"iv\" has 500 files\n",
      "Numeral \"v\" has 500 files\n",
      "Numeral \"vi\" has 499 files\n",
      "Numeral \"vii\" has 500 files\n",
      "Numeral \"viii\" has 500 files\n",
      "Numeral \"ix\" has 500 files\n",
      "Numeral \"x\" has 500 files\n",
      "Total of 4999 files\n",
      "Numeral \"i\" has 614 files\n",
      "Numeral \"ii\" has 1034 files\n",
      "Numeral \"iii\" has 829 files\n",
      "Numeral \"iv\" has 987 files\n",
      "Numeral \"v\" has 571 files\n",
      "Numeral \"vi\" has 1017 files\n",
      "Numeral \"vii\" has 908 files\n",
      "Numeral \"viii\" has 1058 files\n",
      "Numeral \"ix\" has 830 files\n",
      "Numeral \"x\" has 647 files\n",
      "Total of 8495 files\n",
      "Engineered 3496 bad images.\n"
     ]
    }
   ],
   "source": [
    "engineer_bad_images(bad_images, n_opt_files, data_dir)"
   ]
  },
  {
   "cell_type": "code",
   "execution_count": 13,
   "id": "decent-mediterranean",
   "metadata": {},
   "outputs": [
    {
     "data": {
      "text/plain": [
       "69"
      ]
     },
     "execution_count": 13,
     "metadata": {},
     "output_type": "execute_result"
    }
   ],
   "source": [
    "hand_images = glob(hand_dir + '/*.png')\n",
    "len(hand_images)"
   ]
  },
  {
   "cell_type": "code",
   "execution_count": 14,
   "id": "faced-patio",
   "metadata": {},
   "outputs": [],
   "source": [
    "ifile = 0\n",
    "temp_dir ='./temp'\n",
    "ifps = np.random.choice(np.arange(len(hand_images)), n_hand_images,\n",
    "                        replace=True)\n",
    "for i in ifps:\n",
    "    fp = hand_images[i]\n",
    "    num = [n for n in NUMERALS if os.path.basename(fp).startswith('{}_'.format(n))][0]\n",
    "    fp_out = train_dir + '/{0}/{0}_hand_eng_{1}.png'.format(num, ifile)\n",
    "\n",
    "    process_image(fp, fp_out,\n",
    "        enhance='random',\n",
    "        contrast=1,\n",
    "        rotate='random',\n",
    "        erode='random',\n",
    "        dilate=False,\n",
    "        show=False,\n",
    "        )\n",
    "    ifile += 1"
   ]
  },
  {
   "cell_type": "code",
   "execution_count": 16,
   "id": "documentary-defense",
   "metadata": {},
   "outputs": [
    {
     "name": "stdout",
     "output_type": "stream",
     "text": [
      "Numeral \"i\" has 614 files\n",
      "Numeral \"ii\" has 1167 files\n",
      "Numeral \"iii\" has 829 files\n",
      "Numeral \"iv\" has 1298 files\n",
      "Numeral \"v\" has 662 files\n",
      "Numeral \"vi\" has 1241 files\n",
      "Numeral \"vii\" has 1327 files\n",
      "Numeral \"viii\" has 1130 files\n",
      "Numeral \"ix\" has 1080 files\n",
      "Numeral \"x\" has 647 files\n",
      "Total of 9995 files\n",
      "Removed 0 files\n"
     ]
    }
   ],
   "source": [
    "n_count_after, tot_after = count_all_files(data_dir)\n",
    "n_remove = tot_after - target_count_tot\n",
    "fps = glob(train_dir + '/*/*.png')\n",
    "ifps = np.random.choice(np.arange(len(fps)), n_remove,\n",
    "                        replace=False)\n",
    "\n",
    "for i in ifps:\n",
    "    fp = fps[i]\n",
    "    os.remove(fp)\n",
    "\n",
    "print('Removed {} files'.format(n_remove))"
   ]
  },
  {
   "cell_type": "code",
   "execution_count": 17,
   "id": "framed-conclusion",
   "metadata": {},
   "outputs": [
    {
     "name": "stdout",
     "output_type": "stream",
     "text": [
      "Numeral \"i\" has 614 files\n",
      "Numeral \"ii\" has 1167 files\n",
      "Numeral \"iii\" has 829 files\n",
      "Numeral \"iv\" has 1298 files\n",
      "Numeral \"v\" has 662 files\n",
      "Numeral \"vi\" has 1241 files\n",
      "Numeral \"vii\" has 1327 files\n",
      "Numeral \"viii\" has 1130 files\n",
      "Numeral \"ix\" has 1080 files\n",
      "Numeral \"x\" has 647 files\n",
      "Total of 9995 files\n"
     ]
    }
   ],
   "source": [
    "n_count_final, tot_final = count_all_files(data_dir)"
   ]
  },
  {
   "cell_type": "code",
   "execution_count": null,
   "id": "charged-craps",
   "metadata": {},
   "outputs": [],
   "source": []
  },
  {
   "cell_type": "code",
   "execution_count": null,
   "id": "suburban-twins",
   "metadata": {},
   "outputs": [],
   "source": []
  }
 ],
 "metadata": {
  "kernelspec": {
   "display_name": "Python 3",
   "language": "python",
   "name": "python3"
  },
  "language_info": {
   "codemirror_mode": {
    "name": "ipython",
    "version": 3
   },
   "file_extension": ".py",
   "mimetype": "text/x-python",
   "name": "python",
   "nbconvert_exporter": "python",
   "pygments_lexer": "ipython3",
   "version": "3.8.5"
  }
 },
 "nbformat": 4,
 "nbformat_minor": 5
}
