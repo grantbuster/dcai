{
 "cells": [
  {
   "cell_type": "code",
   "execution_count": 1,
   "id": "closed-environment",
   "metadata": {},
   "outputs": [],
   "source": [
    "import os\n",
    "from glob import glob\n",
    "import shutil\n",
    "import numpy as np\n",
    "\n",
    "np.random.seed(123)"
   ]
  },
  {
   "cell_type": "code",
   "execution_count": 2,
   "id": "statutory-monthly",
   "metadata": {},
   "outputs": [],
   "source": [
    "base_data = './data_baseline_clean/data_baseline_clean'\n",
    "new_data = './dcai_gcb_05/dcai_gcb_05'"
   ]
  },
  {
   "cell_type": "code",
   "execution_count": 3,
   "id": "toxic-webmaster",
   "metadata": {},
   "outputs": [],
   "source": [
    "if os.path.exists(new_data):\n",
    "    shutil.rmtree(new_data)\n",
    "\n",
    "shutil.copytree(base_data, new_data)\n",
    "shutil.rmtree(new_data + '/ignore')"
   ]
  },
  {
   "cell_type": "code",
   "execution_count": 4,
   "id": "deadly-prayer",
   "metadata": {},
   "outputs": [],
   "source": [
    "# n_val = 100\n",
    "\n",
    "# numerals = [\"i\", \"ii\", \"iii\", \"iv\", \"v\", \"vi\", \"vii\", \"viii\", \"ix\", \"x\"]\n",
    "\n",
    "# val_dir = new_data + '/val'\n",
    "# if os.path.exists(val_dir):\n",
    "#     shutil.rmtree(val_dir)\n",
    "\n",
    "# for i, num in enumerate(numerals):\n",
    "#     num_dir = new_data + '/train/{}/'.format(num)\n",
    "#     os.makedirs(num_dir.replace('/train/', '/val/'))\n",
    "\n",
    "#     num_pattern = new_data + '/train/{}/*.png'.format(num)\n",
    "#     fps = glob(num_pattern)\n",
    "#     choices = np.random.choice(np.arange(len(fps)), size=n_val, replace=False)\n",
    "#     for choice in choices:\n",
    "#         source = fps[choice]\n",
    "#         dest = source.replace('/train/', '/val/')\n",
    "#         shutil.move(source, dest)\n"
   ]
  },
  {
   "cell_type": "code",
   "execution_count": null,
   "id": "aging-charlotte",
   "metadata": {},
   "outputs": [],
   "source": []
  }
 ],
 "metadata": {
  "kernelspec": {
   "display_name": "Python 3",
   "language": "python",
   "name": "python3"
  },
  "language_info": {
   "codemirror_mode": {
    "name": "ipython",
    "version": 3
   },
   "file_extension": ".py",
   "mimetype": "text/x-python",
   "name": "python",
   "nbconvert_exporter": "python",
   "pygments_lexer": "ipython3",
   "version": "3.8.5"
  }
 },
 "nbformat": 4,
 "nbformat_minor": 5
}
