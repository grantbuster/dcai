{
 "cells": [
  {
   "cell_type": "code",
   "execution_count": 1,
   "id": "prostate-western",
   "metadata": {},
   "outputs": [],
   "source": [
    "import tensorflow as tf\n",
    "import pandas as pd\n",
    "import numpy as np\n",
    "import matplotlib.pyplot as plt\n",
    "\n",
    "from PIL import Image"
   ]
  },
  {
   "cell_type": "code",
   "execution_count": 2,
   "id": "sorted-phone",
   "metadata": {},
   "outputs": [],
   "source": [
    "test = 'dcai_gcb_05'\n",
    "user_data = './{0}/{0}'.format(test)\n",
    "test_data = './label_book/label_book'\n",
    "df = pd.read_csv('./predictions_{}.csv'.format(test))\n",
    "df['correct'] = df['truth'] == df['prediction']"
   ]
  },
  {
   "cell_type": "code",
   "execution_count": 3,
   "id": "demanding-geometry",
   "metadata": {},
   "outputs": [
    {
     "data": {
      "text/html": [
       "<div>\n",
       "<style scoped>\n",
       "    .dataframe tbody tr th:only-of-type {\n",
       "        vertical-align: middle;\n",
       "    }\n",
       "\n",
       "    .dataframe tbody tr th {\n",
       "        vertical-align: top;\n",
       "    }\n",
       "\n",
       "    .dataframe thead th {\n",
       "        text-align: right;\n",
       "    }\n",
       "</style>\n",
       "<table border=\"1\" class=\"dataframe\">\n",
       "  <thead>\n",
       "    <tr style=\"text-align: right;\">\n",
       "      <th></th>\n",
       "      <th>fp</th>\n",
       "      <th>dataset</th>\n",
       "      <th>truth</th>\n",
       "      <th>prediction</th>\n",
       "      <th>correct</th>\n",
       "    </tr>\n",
       "  </thead>\n",
       "  <tbody>\n",
       "    <tr>\n",
       "      <th>0</th>\n",
       "      <td>dcai_gcb_05/dcai_gcb_05/val/i/b170ba82-ce5d-11...</td>\n",
       "      <td>val</td>\n",
       "      <td>1.0</td>\n",
       "      <td>1</td>\n",
       "      <td>True</td>\n",
       "    </tr>\n",
       "    <tr>\n",
       "      <th>1</th>\n",
       "      <td>dcai_gcb_05/dcai_gcb_05/val/i/b1715456-ce5d-11...</td>\n",
       "      <td>val</td>\n",
       "      <td>1.0</td>\n",
       "      <td>1</td>\n",
       "      <td>True</td>\n",
       "    </tr>\n",
       "    <tr>\n",
       "      <th>2</th>\n",
       "      <td>dcai_gcb_05/dcai_gcb_05/val/i/b171d700-ce5d-11...</td>\n",
       "      <td>val</td>\n",
       "      <td>1.0</td>\n",
       "      <td>1</td>\n",
       "      <td>True</td>\n",
       "    </tr>\n",
       "    <tr>\n",
       "      <th>3</th>\n",
       "      <td>dcai_gcb_05/dcai_gcb_05/val/i/b1725dec-ce5d-11...</td>\n",
       "      <td>val</td>\n",
       "      <td>1.0</td>\n",
       "      <td>1</td>\n",
       "      <td>True</td>\n",
       "    </tr>\n",
       "    <tr>\n",
       "      <th>4</th>\n",
       "      <td>dcai_gcb_05/dcai_gcb_05/val/i/b17352ce-ce5d-11...</td>\n",
       "      <td>val</td>\n",
       "      <td>1.0</td>\n",
       "      <td>1</td>\n",
       "      <td>True</td>\n",
       "    </tr>\n",
       "    <tr>\n",
       "      <th>...</th>\n",
       "      <td>...</td>\n",
       "      <td>...</td>\n",
       "      <td>...</td>\n",
       "      <td>...</td>\n",
       "      <td>...</td>\n",
       "    </tr>\n",
       "    <tr>\n",
       "      <th>837</th>\n",
       "      <td>label_book/label_book/x/a97df060-ce5d-11eb-b31...</td>\n",
       "      <td>test</td>\n",
       "      <td>10.0</td>\n",
       "      <td>10</td>\n",
       "      <td>True</td>\n",
       "    </tr>\n",
       "    <tr>\n",
       "      <th>838</th>\n",
       "      <td>label_book/label_book/x/a9a4255a-ce5d-11eb-b31...</td>\n",
       "      <td>test</td>\n",
       "      <td>10.0</td>\n",
       "      <td>10</td>\n",
       "      <td>True</td>\n",
       "    </tr>\n",
       "    <tr>\n",
       "      <th>839</th>\n",
       "      <td>label_book/label_book/x/a9b14348-ce5d-11eb-b31...</td>\n",
       "      <td>test</td>\n",
       "      <td>10.0</td>\n",
       "      <td>10</td>\n",
       "      <td>True</td>\n",
       "    </tr>\n",
       "    <tr>\n",
       "      <th>840</th>\n",
       "      <td>label_book/label_book/x/a9d6228a-ce5d-11eb-b31...</td>\n",
       "      <td>test</td>\n",
       "      <td>10.0</td>\n",
       "      <td>10</td>\n",
       "      <td>True</td>\n",
       "    </tr>\n",
       "    <tr>\n",
       "      <th>841</th>\n",
       "      <td>label_book/label_book/x/a9e4f63e-ce5d-11eb-b31...</td>\n",
       "      <td>test</td>\n",
       "      <td>10.0</td>\n",
       "      <td>10</td>\n",
       "      <td>True</td>\n",
       "    </tr>\n",
       "  </tbody>\n",
       "</table>\n",
       "<p>842 rows × 5 columns</p>\n",
       "</div>"
      ],
      "text/plain": [
       "                                                    fp dataset  truth  \\\n",
       "0    dcai_gcb_05/dcai_gcb_05/val/i/b170ba82-ce5d-11...     val    1.0   \n",
       "1    dcai_gcb_05/dcai_gcb_05/val/i/b1715456-ce5d-11...     val    1.0   \n",
       "2    dcai_gcb_05/dcai_gcb_05/val/i/b171d700-ce5d-11...     val    1.0   \n",
       "3    dcai_gcb_05/dcai_gcb_05/val/i/b1725dec-ce5d-11...     val    1.0   \n",
       "4    dcai_gcb_05/dcai_gcb_05/val/i/b17352ce-ce5d-11...     val    1.0   \n",
       "..                                                 ...     ...    ...   \n",
       "837  label_book/label_book/x/a97df060-ce5d-11eb-b31...    test   10.0   \n",
       "838  label_book/label_book/x/a9a4255a-ce5d-11eb-b31...    test   10.0   \n",
       "839  label_book/label_book/x/a9b14348-ce5d-11eb-b31...    test   10.0   \n",
       "840  label_book/label_book/x/a9d6228a-ce5d-11eb-b31...    test   10.0   \n",
       "841  label_book/label_book/x/a9e4f63e-ce5d-11eb-b31...    test   10.0   \n",
       "\n",
       "     prediction  correct  \n",
       "0             1     True  \n",
       "1             1     True  \n",
       "2             1     True  \n",
       "3             1     True  \n",
       "4             1     True  \n",
       "..          ...      ...  \n",
       "837          10     True  \n",
       "838          10     True  \n",
       "839          10     True  \n",
       "840          10     True  \n",
       "841          10     True  \n",
       "\n",
       "[842 rows x 5 columns]"
      ]
     },
     "execution_count": 3,
     "metadata": {},
     "output_type": "execute_result"
    }
   ],
   "source": [
    "df"
   ]
  },
  {
   "cell_type": "code",
   "execution_count": 4,
   "id": "breathing-treasury",
   "metadata": {},
   "outputs": [
    {
     "data": {
      "text/plain": [
       "(0.9227848101265823, 0.7884615384615384)"
      ]
     },
     "execution_count": 4,
     "metadata": {},
     "output_type": "execute_result"
    }
   ],
   "source": [
    "val_mask = df['dataset'] == 'val'\n",
    "test_mask = df['dataset'] == 'test'\n",
    "df[val_mask].correct.sum() / val_mask.sum(), df[test_mask].correct.sum() / test_mask.sum()"
   ]
  },
  {
   "cell_type": "code",
   "execution_count": 5,
   "id": "sonic-piano",
   "metadata": {},
   "outputs": [
    {
     "data": {
      "text/plain": [
       "(0.0, 1.4)"
      ]
     },
     "execution_count": 5,
     "metadata": {},
     "output_type": "execute_result"
    },
    {
     "data": {
      "image/png": "[encoded data removed]",
      "text/plain": [
       "<Figure size 720x360 with 1 Axes>"
      ]
     },
     "metadata": {
      "needs_background": "light"
     },
     "output_type": "display_data"
    }
   ],
   "source": [
    "n_acc = pd.DataFrame()\n",
    "for n, sub in df.groupby('truth'):\n",
    "    val_mask = sub['dataset'] == 'val'\n",
    "    test_mask = sub['dataset'] == 'test'\n",
    "    n_acc.at[n, 'acc'] = sub['correct'].sum() / len(sub)\n",
    "    n_acc.at[n, 'val_acc'] = sub.loc[val_mask, 'correct'].sum() / val_mask.sum()\n",
    "    n_acc.at[n, 'test_acc'] = sub.loc[test_mask, 'correct'].sum() / test_mask.sum()\n",
    "fig = plt.figure(figsize=(10, 5))\n",
    "ax = fig.add_subplot(111)\n",
    "n_acc.plot.bar(ax=ax)\n",
    "plt.ylim(0.0, 1.4)"
   ]
  },
  {
   "cell_type": "code",
   "execution_count": 6,
   "id": "incredible-earthquake",
   "metadata": {},
   "outputs": [
    {
     "name": "stdout",
     "output_type": "stream",
     "text": [
      "Found 790 files belonging to 10 classes.\n",
      "Found 52 files belonging to 10 classes.\n"
     ]
    }
   ],
   "source": [
    "valid = tf.keras.preprocessing.image_dataset_from_directory(\n",
    "    user_data + '/val',\n",
    "    labels=\"inferred\",\n",
    "    label_mode=\"categorical\",\n",
    "    class_names=[\"i\", \"ii\", \"iii\", \"iv\", \"v\", \"vi\", \"vii\", \"viii\", \"ix\", \"x\"],\n",
    "    shuffle=False,\n",
    "    seed=123,\n",
    "    batch_size=8,\n",
    "    image_size=(32, 32),\n",
    ")\n",
    "\n",
    "test = tf.keras.preprocessing.image_dataset_from_directory(\n",
    "    test_data,\n",
    "    labels=\"inferred\",\n",
    "    label_mode=\"categorical\",\n",
    "    class_names=[\"i\", \"ii\", \"iii\", \"iv\", \"v\", \"vi\", \"vii\", \"viii\", \"ix\", \"x\"],\n",
    "    shuffle=False,\n",
    "    seed=123,\n",
    "    batch_size=8,\n",
    "    image_size=(32, 32),\n",
    ")"
   ]
  },
  {
   "cell_type": "code",
   "execution_count": 7,
   "id": "musical-blank",
   "metadata": {},
   "outputs": [],
   "source": [
    "images = list(valid.unbatch()) + list(test.unbatch())\n",
    "file_paths = valid.file_paths + test.file_paths"
   ]
  },
  {
   "cell_type": "code",
   "execution_count": 8,
   "id": "alien-hometown",
   "metadata": {},
   "outputs": [
    {
     "data": {
      "text/plain": [
       "['dcai_gcb_05/dcai_gcb_05/val/i/b178641c-ce5d-11eb-b317-38f9d35ea60f.png',\n",
       " 'dcai_gcb_05/dcai_gcb_05/val/i/b18436ac-ce5d-11eb-b317-38f9d35ea60f.png',\n",
       " 'dcai_gcb_05/dcai_gcb_05/val/i/b1ac72d4-ce5d-11eb-b317-38f9d35ea60f.png',\n",
       " 'dcai_gcb_05/dcai_gcb_05/val/ii/b134e174-ce5d-11eb-b317-38f9d35ea60f.png',\n",
       " 'dcai_gcb_05/dcai_gcb_05/val/ii/b13e7b12-ce5d-11eb-b317-38f9d35ea60f.png',\n",
       " 'dcai_gcb_05/dcai_gcb_05/val/ii/b1448f7a-ce5d-11eb-b317-38f9d35ea60f.png',\n",
       " 'dcai_gcb_05/dcai_gcb_05/val/ii/b146fb5c-ce5d-11eb-b317-38f9d35ea60f.png',\n",
       " 'dcai_gcb_05/dcai_gcb_05/val/ii/b1483d96-ce5d-11eb-b317-38f9d35ea60f.png',\n",
       " 'dcai_gcb_05/dcai_gcb_05/val/ii/b148f740-ce5d-11eb-b317-38f9d35ea60f.png',\n",
       " 'dcai_gcb_05/dcai_gcb_05/val/ii/b149af64-ce5d-11eb-b317-38f9d35ea60f.png',\n",
       " 'dcai_gcb_05/dcai_gcb_05/val/ii/b14bdd8e-ce5d-11eb-b317-38f9d35ea60f.png',\n",
       " 'dcai_gcb_05/dcai_gcb_05/val/ii/b1590d9c-ce5d-11eb-b317-38f9d35ea60f.png',\n",
       " 'dcai_gcb_05/dcai_gcb_05/val/ii/b159b1de-ce5d-11eb-b317-38f9d35ea60f.png',\n",
       " 'dcai_gcb_05/dcai_gcb_05/val/ii/b15c829c-ce5d-11eb-b317-38f9d35ea60f.png',\n",
       " 'dcai_gcb_05/dcai_gcb_05/val/ii/b15d4984-ce5d-11eb-b317-38f9d35ea60f.png',\n",
       " 'dcai_gcb_05/dcai_gcb_05/val/ii/b16642c8-ce5d-11eb-b317-38f9d35ea60f.png',\n",
       " 'dcai_gcb_05/dcai_gcb_05/val/iii/b34039c8-ce5d-11eb-b317-38f9d35ea60f.png',\n",
       " 'dcai_gcb_05/dcai_gcb_05/val/iii/b346a344-ce5d-11eb-b317-38f9d35ea60f.png',\n",
       " 'dcai_gcb_05/dcai_gcb_05/val/iii/b3883c5a-ce5d-11eb-b317-38f9d35ea60f.png',\n",
       " 'dcai_gcb_05/dcai_gcb_05/val/iii/b38bceba-ce5d-11eb-b317-38f9d35ea60f.png',\n",
       " 'dcai_gcb_05/dcai_gcb_05/val/iv/b23d98d6-ce5d-11eb-b317-38f9d35ea60f.png',\n",
       " 'dcai_gcb_05/dcai_gcb_05/val/iv/b247068c-ce5d-11eb-b317-38f9d35ea60f.png',\n",
       " 'dcai_gcb_05/dcai_gcb_05/val/iv/b24f1f48-ce5d-11eb-b317-38f9d35ea60f.png',\n",
       " 'dcai_gcb_05/dcai_gcb_05/val/iv/b25dea64-ce5d-11eb-b317-38f9d35ea60f.png',\n",
       " 'dcai_gcb_05/dcai_gcb_05/val/iv/b270524e-ce5d-11eb-b317-38f9d35ea60f.png',\n",
       " 'dcai_gcb_05/dcai_gcb_05/val/vi/b0fc8b12-ce5d-11eb-b317-38f9d35ea60f.png',\n",
       " 'dcai_gcb_05/dcai_gcb_05/val/vi/b107d972-ce5d-11eb-b317-38f9d35ea60f.png',\n",
       " 'dcai_gcb_05/dcai_gcb_05/val/vi/b1152c12-ce5d-11eb-b317-38f9d35ea60f.png',\n",
       " 'dcai_gcb_05/dcai_gcb_05/val/vi/b11a54da-ce5d-11eb-b317-38f9d35ea60f.png',\n",
       " 'dcai_gcb_05/dcai_gcb_05/val/vii/b1c4d02c-ce5d-11eb-b317-38f9d35ea60f.png',\n",
       " 'dcai_gcb_05/dcai_gcb_05/val/vii/b1c5b87a-ce5d-11eb-b317-38f9d35ea60f.png',\n",
       " 'dcai_gcb_05/dcai_gcb_05/val/vii/b1c74096-ce5d-11eb-b317-38f9d35ea60f.png',\n",
       " 'dcai_gcb_05/dcai_gcb_05/val/vii/b1c80c10-ce5d-11eb-b317-38f9d35ea60f.png',\n",
       " 'dcai_gcb_05/dcai_gcb_05/val/vii/b1c8a990-ce5d-11eb-b317-38f9d35ea60f.png',\n",
       " 'dcai_gcb_05/dcai_gcb_05/val/vii/b1c94378-ce5d-11eb-b317-38f9d35ea60f.png',\n",
       " 'dcai_gcb_05/dcai_gcb_05/val/vii/b1d0b888-ce5d-11eb-b317-38f9d35ea60f.png',\n",
       " 'dcai_gcb_05/dcai_gcb_05/val/vii/b1dcbf2a-ce5d-11eb-b317-38f9d35ea60f.png',\n",
       " 'dcai_gcb_05/dcai_gcb_05/val/vii/b1df2fee-ce5d-11eb-b317-38f9d35ea60f.png',\n",
       " 'dcai_gcb_05/dcai_gcb_05/val/vii/b1e73662-ce5d-11eb-b317-38f9d35ea60f.png',\n",
       " 'dcai_gcb_05/dcai_gcb_05/val/vii/b1e93408-ce5d-11eb-b317-38f9d35ea60f.png',\n",
       " 'dcai_gcb_05/dcai_gcb_05/val/viii/b218f59e-ce5d-11eb-b317-38f9d35ea60f.png',\n",
       " 'dcai_gcb_05/dcai_gcb_05/val/viii/b228cf00-ce5d-11eb-b317-38f9d35ea60f.png',\n",
       " 'dcai_gcb_05/dcai_gcb_05/val/ix/b2721e44-ce5d-11eb-b317-38f9d35ea60f.png',\n",
       " 'dcai_gcb_05/dcai_gcb_05/val/ix/b27b0f0e-ce5d-11eb-b317-38f9d35ea60f.png',\n",
       " 'dcai_gcb_05/dcai_gcb_05/val/ix/b27d3298-ce5d-11eb-b317-38f9d35ea60f.png',\n",
       " 'dcai_gcb_05/dcai_gcb_05/val/ix/b2803128-ce5d-11eb-b317-38f9d35ea60f.png',\n",
       " 'dcai_gcb_05/dcai_gcb_05/val/ix/b281740c-ce5d-11eb-b317-38f9d35ea60f.png',\n",
       " 'dcai_gcb_05/dcai_gcb_05/val/ix/b2853e34-ce5d-11eb-b317-38f9d35ea60f.png',\n",
       " 'dcai_gcb_05/dcai_gcb_05/val/ix/b2889746-ce5d-11eb-b317-38f9d35ea60f.png',\n",
       " 'dcai_gcb_05/dcai_gcb_05/val/ix/b289ecc2-ce5d-11eb-b317-38f9d35ea60f.png',\n",
       " 'dcai_gcb_05/dcai_gcb_05/val/ix/b293d5ca-ce5d-11eb-b317-38f9d35ea60f.png',\n",
       " 'dcai_gcb_05/dcai_gcb_05/val/ix/b295ad14-ce5d-11eb-b317-38f9d35ea60f.png',\n",
       " 'dcai_gcb_05/dcai_gcb_05/val/ix/b296cbae-ce5d-11eb-b317-38f9d35ea60f.png',\n",
       " 'dcai_gcb_05/dcai_gcb_05/val/ix/b29bfab6-ce5d-11eb-b317-38f9d35ea60f.png',\n",
       " 'dcai_gcb_05/dcai_gcb_05/val/ix/b2a5b0ce-ce5d-11eb-b317-38f9d35ea60f.png',\n",
       " 'dcai_gcb_05/dcai_gcb_05/val/ix/b2a7966e-ce5d-11eb-b317-38f9d35ea60f.png',\n",
       " 'dcai_gcb_05/dcai_gcb_05/val/ix/b2b5fa42-ce5d-11eb-b317-38f9d35ea60f.png',\n",
       " 'dcai_gcb_05/dcai_gcb_05/val/x/b307a964-ce5d-11eb-b317-38f9d35ea60f.png',\n",
       " 'dcai_gcb_05/dcai_gcb_05/val/x/b31ef10a-ce5d-11eb-b317-38f9d35ea60f.png',\n",
       " 'dcai_gcb_05/dcai_gcb_05/val/x/b32511a2-ce5d-11eb-b317-38f9d35ea60f.png',\n",
       " 'dcai_gcb_05/dcai_gcb_05/val/x/b3310e9e-ce5d-11eb-b317-38f9d35ea60f.png',\n",
       " 'label_book/label_book/ii/a3b8f1fc-ce5d-11eb-b317-38f9d35ea60f.png',\n",
       " 'label_book/label_book/ii/a3e33dcc-ce5d-11eb-b317-38f9d35ea60f.png',\n",
       " 'label_book/label_book/iii/aa5f808e-ce5d-11eb-b317-38f9d35ea60f.png',\n",
       " 'label_book/label_book/iii/aa864ee4-ce5d-11eb-b317-38f9d35ea60f.png',\n",
       " 'label_book/label_book/iv/a6f8c07c-ce5d-11eb-b317-38f9d35ea60f.png',\n",
       " 'label_book/label_book/v/a8d56ac6-ce5d-11eb-b317-38f9d35ea60f.png',\n",
       " 'label_book/label_book/vi/a2f7b186-ce5d-11eb-b317-38f9d35ea60f.png',\n",
       " 'label_book/label_book/vi/a343231e-ce5d-11eb-b317-38f9d35ea60f.png',\n",
       " 'label_book/label_book/vii/a5ade382-ce5d-11eb-b317-38f9d35ea60f.png',\n",
       " 'label_book/label_book/ix/a7ae10bc-ce5d-11eb-b317-38f9d35ea60f.png',\n",
       " 'label_book/label_book/ix/a7dae376-ce5d-11eb-b317-38f9d35ea60f.png']"
      ]
     },
     "execution_count": 8,
     "metadata": {},
     "output_type": "execute_result"
    }
   ],
   "source": [
    "bad_file_paths = df.loc[(df.correct == False), 'fp'].values.tolist()\n",
    "bad_file_paths"
   ]
  },
  {
   "cell_type": "code",
   "execution_count": 10,
   "id": "knowing-lindsay",
   "metadata": {},
   "outputs": [
    {
     "data": {
      "text/plain": [
       "11"
      ]
     },
     "metadata": {},
     "output_type": "display_data"
    },
    {
     "data": {
      "image/png": "[encoded data removed]",
      "text/plain": [
       "<Figure size 432x288 with 1 Axes>"
      ]
     },
     "metadata": {
      "needs_background": "light"
     },
     "output_type": "display_data"
    },
    {
     "data": {
      "image/png": "[encoded data removed]",
      "text/plain": [
       "<Figure size 432x288 with 1 Axes>"
      ]
     },
     "metadata": {
      "needs_background": "light"
     },
     "output_type": "display_data"
    },
    {
     "data": {
      "image/png": "[encoded data removed]",
      "text/plain": [
       "<Figure size 432x288 with 1 Axes>"
      ]
     },
     "metadata": {
      "needs_background": "light"
     },
     "output_type": "display_data"
    },
    {
     "data": {
      "image/png": "[encoded data removed]",
      "text/plain": [
       "<Figure size 432x288 with 1 Axes>"
      ]
     },
     "metadata": {
      "needs_background": "light"
     },
     "output_type": "display_data"
    },
    {
     "data": {
      "image/png": "[encoded data removed]",
      "text/plain": [
       "<Figure size 432x288 with 1 Axes>"
      ]
     },
     "metadata": {
      "needs_background": "light"
     },
     "output_type": "display_data"
    },
    {
     "data": {
      "image/png": "[encoded data removed]",
      "text/plain": [
       "<Figure size 432x288 with 1 Axes>"
      ]
     },
     "metadata": {
      "needs_background": "light"
     },
     "output_type": "display_data"
    },
    {
     "data": {
      "image/png": "[encoded data removed]",
      "text/plain": [
       "<Figure size 432x288 with 1 Axes>"
      ]
     },
     "metadata": {
      "needs_background": "light"
     },
     "output_type": "display_data"
    },
    {
     "data": {
      "image/png": "[encoded data removed]",
      "text/plain": [
       "<Figure size 432x288 with 1 Axes>"
      ]
     },
     "metadata": {
      "needs_background": "light"
     },
     "output_type": "display_data"
    },
    {
     "data": {
      "image/png": "[encoded data removed]",
      "text/plain": [
       "<Figure size 432x288 with 1 Axes>"
      ]
     },
     "metadata": {
      "needs_background": "light"
     },
     "output_type": "display_data"
    },
    {
     "data": {
      "image/png": "[encoded data removed]",
      "text/plain": [
       "<Figure size 432x288 with 1 Axes>"
      ]
     },
     "metadata": {
      "needs_background": "light"
     },
     "output_type": "display_data"
    },
    {
     "data": {
      "image/png": "[encoded data removed]",
      "text/plain": [
       "<Figure size 432x288 with 1 Axes>"
      ]
     },
     "metadata": {
      "needs_background": "light"
     },
     "output_type": "display_data"
    }
   ],
   "source": [
    "mask = (\n",
    "    (df.correct == False)\n",
    "    & (df.dataset == 'test')\n",
    "#     & (df.truth == 10)\n",
    ")\n",
    "display(mask.sum())\n",
    "for i, row in df[mask].sample(frac=1).iterrows():\n",
    "    fp = './' + row['fp']\n",
    "    truth = int(row['truth'])\n",
    "    pred = int(row['prediction'])\n",
    "    correct = 'Correct' if truth == pred else 'Wrong'\n",
    "    fp_index = file_paths.index(fp)\n",
    "    image = images[fp_index][0].numpy().astype(np.uint8)\n",
    "    plt.imshow(image)\n",
    "    plt.title('{}, Prediction: {}, Truth: {}'.format(correct, pred, truth))\n",
    "    plt.show()\n",
    "    plt.close()\n"
   ]
  },
  {
   "cell_type": "code",
   "execution_count": null,
   "id": "blank-expansion",
   "metadata": {},
   "outputs": [],
   "source": []
  },
  {
   "cell_type": "code",
   "execution_count": null,
   "id": "duplicate-earthquake",
   "metadata": {},
   "outputs": [],
   "source": []
  }
 ],
 "metadata": {
  "kernelspec": {
   "display_name": "Python 3",
   "language": "python",
   "name": "python3"
  },
  "language_info": {
   "codemirror_mode": {
    "name": "ipython",
    "version": 3
   },
   "file_extension": ".py",
   "mimetype": "text/x-python",
   "name": "python",
   "nbconvert_exporter": "python",
   "pygments_lexer": "ipython3",
   "version": "3.8.5"
  }
 },
 "nbformat": 4,
 "nbformat_minor": 5
}
