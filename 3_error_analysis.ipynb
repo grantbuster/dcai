{
 "cells": [
  {
   "cell_type": "code",
   "execution_count": 1,
   "id": "exempt-oxford",
   "metadata": {},
   "outputs": [],
   "source": [
    "import tensorflow as tf\n",
    "import pandas as pd\n",
    "import numpy as np\n",
    "import matplotlib.pyplot as plt\n",
    "\n",
    "from PIL import Image"
   ]
  },
  {
   "cell_type": "code",
   "execution_count": 2,
   "id": "junior-mistress",
   "metadata": {},
   "outputs": [],
   "source": [
    "test = 'dcai_gcb_03'\n",
    "user_data = './{0}/{0}'.format(test)\n",
    "test_data = './label_book/label_book'\n",
    "df = pd.read_csv('./predictions_{}.csv'.format(test))\n",
    "df['correct'] = df['truth'] == df['prediction']"
   ]
  },
  {
   "cell_type": "code",
   "execution_count": 3,
   "id": "british-competition",
   "metadata": {},
   "outputs": [
    {
     "data": {
      "text/html": [
       "<div>\n",
       "<style scoped>\n",
       "    .dataframe tbody tr th:only-of-type {\n",
       "        vertical-align: middle;\n",
       "    }\n",
       "\n",
       "    .dataframe tbody tr th {\n",
       "        vertical-align: top;\n",
       "    }\n",
       "\n",
       "    .dataframe thead th {\n",
       "        text-align: right;\n",
       "    }\n",
       "</style>\n",
       "<table border=\"1\" class=\"dataframe\">\n",
       "  <thead>\n",
       "    <tr style=\"text-align: right;\">\n",
       "      <th></th>\n",
       "      <th>fp</th>\n",
       "      <th>dataset</th>\n",
       "      <th>truth</th>\n",
       "      <th>prediction</th>\n",
       "      <th>correct</th>\n",
       "    </tr>\n",
       "  </thead>\n",
       "  <tbody>\n",
       "    <tr>\n",
       "      <th>0</th>\n",
       "      <td>dcai_gcb_03/dcai_gcb_03/val/i/b170ba82-ce5d-11...</td>\n",
       "      <td>val</td>\n",
       "      <td>1.0</td>\n",
       "      <td>1</td>\n",
       "      <td>True</td>\n",
       "    </tr>\n",
       "    <tr>\n",
       "      <th>1</th>\n",
       "      <td>dcai_gcb_03/dcai_gcb_03/val/i/b1715456-ce5d-11...</td>\n",
       "      <td>val</td>\n",
       "      <td>1.0</td>\n",
       "      <td>1</td>\n",
       "      <td>True</td>\n",
       "    </tr>\n",
       "    <tr>\n",
       "      <th>2</th>\n",
       "      <td>dcai_gcb_03/dcai_gcb_03/val/i/b171d700-ce5d-11...</td>\n",
       "      <td>val</td>\n",
       "      <td>1.0</td>\n",
       "      <td>1</td>\n",
       "      <td>True</td>\n",
       "    </tr>\n",
       "    <tr>\n",
       "      <th>3</th>\n",
       "      <td>dcai_gcb_03/dcai_gcb_03/val/i/b1725dec-ce5d-11...</td>\n",
       "      <td>val</td>\n",
       "      <td>1.0</td>\n",
       "      <td>1</td>\n",
       "      <td>True</td>\n",
       "    </tr>\n",
       "    <tr>\n",
       "      <th>4</th>\n",
       "      <td>dcai_gcb_03/dcai_gcb_03/val/i/b17352ce-ce5d-11...</td>\n",
       "      <td>val</td>\n",
       "      <td>1.0</td>\n",
       "      <td>1</td>\n",
       "      <td>True</td>\n",
       "    </tr>\n",
       "    <tr>\n",
       "      <th>...</th>\n",
       "      <td>...</td>\n",
       "      <td>...</td>\n",
       "      <td>...</td>\n",
       "      <td>...</td>\n",
       "      <td>...</td>\n",
       "    </tr>\n",
       "    <tr>\n",
       "      <th>837</th>\n",
       "      <td>label_book/label_book/x/a97df060-ce5d-11eb-b31...</td>\n",
       "      <td>test</td>\n",
       "      <td>10.0</td>\n",
       "      <td>10</td>\n",
       "      <td>True</td>\n",
       "    </tr>\n",
       "    <tr>\n",
       "      <th>838</th>\n",
       "      <td>label_book/label_book/x/a9a4255a-ce5d-11eb-b31...</td>\n",
       "      <td>test</td>\n",
       "      <td>10.0</td>\n",
       "      <td>10</td>\n",
       "      <td>True</td>\n",
       "    </tr>\n",
       "    <tr>\n",
       "      <th>839</th>\n",
       "      <td>label_book/label_book/x/a9b14348-ce5d-11eb-b31...</td>\n",
       "      <td>test</td>\n",
       "      <td>10.0</td>\n",
       "      <td>10</td>\n",
       "      <td>True</td>\n",
       "    </tr>\n",
       "    <tr>\n",
       "      <th>840</th>\n",
       "      <td>label_book/label_book/x/a9d6228a-ce5d-11eb-b31...</td>\n",
       "      <td>test</td>\n",
       "      <td>10.0</td>\n",
       "      <td>10</td>\n",
       "      <td>True</td>\n",
       "    </tr>\n",
       "    <tr>\n",
       "      <th>841</th>\n",
       "      <td>label_book/label_book/x/a9e4f63e-ce5d-11eb-b31...</td>\n",
       "      <td>test</td>\n",
       "      <td>10.0</td>\n",
       "      <td>1</td>\n",
       "      <td>False</td>\n",
       "    </tr>\n",
       "  </tbody>\n",
       "</table>\n",
       "<p>842 rows × 5 columns</p>\n",
       "</div>"
      ],
      "text/plain": [
       "                                                    fp dataset  truth  \\\n",
       "0    dcai_gcb_03/dcai_gcb_03/val/i/b170ba82-ce5d-11...     val    1.0   \n",
       "1    dcai_gcb_03/dcai_gcb_03/val/i/b1715456-ce5d-11...     val    1.0   \n",
       "2    dcai_gcb_03/dcai_gcb_03/val/i/b171d700-ce5d-11...     val    1.0   \n",
       "3    dcai_gcb_03/dcai_gcb_03/val/i/b1725dec-ce5d-11...     val    1.0   \n",
       "4    dcai_gcb_03/dcai_gcb_03/val/i/b17352ce-ce5d-11...     val    1.0   \n",
       "..                                                 ...     ...    ...   \n",
       "837  label_book/label_book/x/a97df060-ce5d-11eb-b31...    test   10.0   \n",
       "838  label_book/label_book/x/a9a4255a-ce5d-11eb-b31...    test   10.0   \n",
       "839  label_book/label_book/x/a9b14348-ce5d-11eb-b31...    test   10.0   \n",
       "840  label_book/label_book/x/a9d6228a-ce5d-11eb-b31...    test   10.0   \n",
       "841  label_book/label_book/x/a9e4f63e-ce5d-11eb-b31...    test   10.0   \n",
       "\n",
       "     prediction  correct  \n",
       "0             1     True  \n",
       "1             1     True  \n",
       "2             1     True  \n",
       "3             1     True  \n",
       "4             1     True  \n",
       "..          ...      ...  \n",
       "837          10     True  \n",
       "838          10     True  \n",
       "839          10     True  \n",
       "840          10     True  \n",
       "841           1    False  \n",
       "\n",
       "[842 rows x 5 columns]"
      ]
     },
     "execution_count": 3,
     "metadata": {},
     "output_type": "execute_result"
    }
   ],
   "source": [
    "df"
   ]
  },
  {
   "cell_type": "code",
   "execution_count": 4,
   "id": "bottom-mitchell",
   "metadata": {},
   "outputs": [
    {
     "data": {
      "text/plain": [
       "(0.8202531645569621, 0.6153846153846154)"
      ]
     },
     "execution_count": 4,
     "metadata": {},
     "output_type": "execute_result"
    }
   ],
   "source": [
    "val_mask = df['dataset'] == 'val'\n",
    "test_mask = df['dataset'] == 'test'\n",
    "df[val_mask].correct.sum() / val_mask.sum(), df[test_mask].correct.sum() / test_mask.sum()"
   ]
  },
  {
   "cell_type": "code",
   "execution_count": 5,
   "id": "vital-engineer",
   "metadata": {},
   "outputs": [
    {
     "data": {
      "text/plain": [
       "(0.0, 1.4)"
      ]
     },
     "execution_count": 5,
     "metadata": {},
     "output_type": "execute_result"
    },
    {
     "data": {
      "image/png": "[encoded data removed]",
      "text/plain": [
       "<Figure size 720x360 with 1 Axes>"
      ]
     },
     "metadata": {
      "needs_background": "light"
     },
     "output_type": "display_data"
    }
   ],
   "source": [
    "n_acc = pd.DataFrame()\n",
    "for n, sub in df.groupby('truth'):\n",
    "    val_mask = sub['dataset'] == 'val'\n",
    "    test_mask = sub['dataset'] == 'test'\n",
    "    n_acc.at[n, 'acc'] = sub['correct'].sum() / len(sub)\n",
    "    n_acc.at[n, 'val_acc'] = sub.loc[val_mask, 'correct'].sum() / val_mask.sum()\n",
    "    n_acc.at[n, 'test_acc'] = sub.loc[test_mask, 'correct'].sum() / test_mask.sum()\n",
    "fig = plt.figure(figsize=(10, 5))\n",
    "ax = fig.add_subplot(111)\n",
    "n_acc.plot.bar(ax=ax)\n",
    "plt.ylim(0.0, 1.4)"
   ]
  },
  {
   "cell_type": "code",
   "execution_count": 6,
   "id": "decimal-massage",
   "metadata": {},
   "outputs": [
    {
     "name": "stdout",
     "output_type": "stream",
     "text": [
      "Found 790 files belonging to 10 classes.\n",
      "Found 52 files belonging to 10 classes.\n"
     ]
    }
   ],
   "source": [
    "valid = tf.keras.preprocessing.image_dataset_from_directory(\n",
    "    user_data + '/val',\n",
    "    labels=\"inferred\",\n",
    "    label_mode=\"categorical\",\n",
    "    class_names=[\"i\", \"ii\", \"iii\", \"iv\", \"v\", \"vi\", \"vii\", \"viii\", \"ix\", \"x\"],\n",
    "    shuffle=False,\n",
    "    seed=123,\n",
    "    batch_size=8,\n",
    "    image_size=(32, 32),\n",
    ")\n",
    "\n",
    "test = tf.keras.preprocessing.image_dataset_from_directory(\n",
    "    test_data,\n",
    "    labels=\"inferred\",\n",
    "    label_mode=\"categorical\",\n",
    "    class_names=[\"i\", \"ii\", \"iii\", \"iv\", \"v\", \"vi\", \"vii\", \"viii\", \"ix\", \"x\"],\n",
    "    shuffle=False,\n",
    "    seed=123,\n",
    "    batch_size=8,\n",
    "    image_size=(32, 32),\n",
    ")"
   ]
  },
  {
   "cell_type": "code",
   "execution_count": 7,
   "id": "exposed-theme",
   "metadata": {},
   "outputs": [],
   "source": [
    "images = list(valid.unbatch()) + list(test.unbatch())\n",
    "file_paths = valid.file_paths + test.file_paths"
   ]
  },
  {
   "cell_type": "code",
   "execution_count": 8,
   "id": "lightweight-premises",
   "metadata": {},
   "outputs": [
    {
     "data": {
      "text/plain": [
       "8"
      ]
     },
     "metadata": {},
     "output_type": "display_data"
    },
    {
     "data": {
      "image/png": "[encoded data removed]",
      "text/plain": [
       "<Figure size 432x288 with 1 Axes>"
      ]
     },
     "metadata": {
      "needs_background": "light"
     },
     "output_type": "display_data"
    },
    {
     "data": {
      "image/png": "[encoded data removed]",
      "text/plain": [
       "<Figure size 432x288 with 1 Axes>"
      ]
     },
     "metadata": {
      "needs_background": "light"
     },
     "output_type": "display_data"
    },
    {
     "data": {
      "image/png": "[encoded data removed]",
      "text/plain": [
       "<Figure size 432x288 with 1 Axes>"
      ]
     },
     "metadata": {
      "needs_background": "light"
     },
     "output_type": "display_data"
    },
    {
     "data": {
      "image/png": "[encoded data removed]",
      "text/plain": [
       "<Figure size 432x288 with 1 Axes>"
      ]
     },
     "metadata": {
      "needs_background": "light"
     },
     "output_type": "display_data"
    },
    {
     "data": {
      "image/png": "[encoded data removed]",
      "text/plain": [
       "<Figure size 432x288 with 1 Axes>"
      ]
     },
     "metadata": {
      "needs_background": "light"
     },
     "output_type": "display_data"
    },
    {
     "data": {
      "image/png": "[encoded data removed]",
      "text/plain": [
       "<Figure size 432x288 with 1 Axes>"
      ]
     },
     "metadata": {
      "needs_background": "light"
     },
     "output_type": "display_data"
    },
    {
     "data": {
      "image/png": "[encoded data removed]",
      "text/plain": [
       "<Figure size 432x288 with 1 Axes>"
      ]
     },
     "metadata": {
      "needs_background": "light"
     },
     "output_type": "display_data"
    },
    {
     "data": {
      "image/png": "[encoded data removed]",
      "text/plain": [
       "<Figure size 432x288 with 1 Axes>"
      ]
     },
     "metadata": {
      "needs_background": "light"
     },
     "output_type": "display_data"
    }
   ],
   "source": [
    "mask = (\n",
    "    (df.correct == False)\n",
    "#     & (df.dataset == 'test')\n",
    "    & (df.truth == 10)\n",
    ")\n",
    "display(mask.sum())\n",
    "for i, row in df[mask].sample(frac=1).iterrows():\n",
    "    fp = './' + row['fp']\n",
    "    truth = int(row['truth'])\n",
    "    pred = int(row['prediction'])\n",
    "    correct = 'Correct' if truth == pred else 'Wrong'\n",
    "    fp_index = file_paths.index(fp)\n",
    "    image = images[fp_index][0].numpy().astype(np.uint8)\n",
    "    plt.imshow(image)\n",
    "    plt.title('{}, Prediction: {}, Truth: {}'.format(correct, pred, truth))\n",
    "    plt.show()\n",
    "    plt.close()\n"
   ]
  },
  {
   "cell_type": "code",
   "execution_count": null,
   "id": "british-bloom",
   "metadata": {},
   "outputs": [],
   "source": []
  },
  {
   "cell_type": "code",
   "execution_count": null,
   "id": "rotary-alexandria",
   "metadata": {},
   "outputs": [],
   "source": []
  }
 ],
 "metadata": {
  "kernelspec": {
   "display_name": "Python 3",
   "language": "python",
   "name": "python3"
  },
  "language_info": {
   "codemirror_mode": {
    "name": "ipython",
    "version": 3
   },
   "file_extension": ".py",
   "mimetype": "text/x-python",
   "name": "python",
   "nbconvert_exporter": "python",
   "pygments_lexer": "ipython3",
   "version": "3.8.5"
  }
 },
 "nbformat": 4,
 "nbformat_minor": 5
}
